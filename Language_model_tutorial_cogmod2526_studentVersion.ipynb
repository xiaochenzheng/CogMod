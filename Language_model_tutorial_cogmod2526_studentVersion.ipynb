{
  "cells": [
    {
      "cell_type": "markdown",
      "metadata": {
        "id": "view-in-github",
        "colab_type": "text"
      },
      "source": [
        "<a href=\"https://colab.research.google.com/github/xiaochenzheng/CogMod/blob/main/Language_model_tutorial_cogmod2526_studentVersion.ipynb\" target=\"_parent\"><img src=\"https://colab.research.google.com/assets/colab-badge.svg\" alt=\"Open In Colab\"/></a>"
      ]
    },
    {
      "cell_type": "markdown",
      "metadata": {
        "id": "Bcu6YpLym-_T"
      },
      "source": [
        "# Tutorial: Using Language Models to Probe Cognitive and Neural Representations\n",
        "_For the course Cognitive Modelling (2025-2026, DataScience & AI)_\n",
        "\n",
        "_Last updated: 26 October 2025_\n",
        "\n",
        "\n",
        "\n",
        "In this tutorial, we will explore how linguistic meaning is represented both in **computational models** and in the **human brain**.  \n",
        "\n",
        "1. **Part 1 – Static Word Embeddings**  \n",
        "   We begin with classic embedding models such as **GloVe**, visualizing how words like *king*, *queen*, *man*, and *woman* are organized in a continuous semantic space.\n",
        "2. **Part 2 – Contextualized Word Embeddings**  \n",
        "   We then move to **BERT**, a transformer-based model that represents words differently depending on their context. You will compare how the meaning of the word *mouse* changes across sentences and compute representational similarity between embeddings.\n",
        "\n",
        "3. **Part 3 – Linking Models to the Brain**  \n",
        "   Finally, you will relate language model output to **fMRI data** recorded while participants read a story. Using **Representational Similarity Analysis (RSA)**, you will test whether deeper, more contextualized model layers better align with brain activity in language areas compared to early layers.\n",
        "\n",
        "Together, these exercises will show how language models can serve as computational tools for studying human cognitive and neural representations.\n",
        "\n",
        "\n",
        "Dr. Xiaochen Zheng\n",
        "\n",
        "With the help of chatGPT\n",
        "\n",
        "\n",
        "Based on: Advanced Neural and Cognitive Modelling (https://clclab.github.io/ANCM/intro.html) by J.Zuidema & M. de Heer Kloots\n",
        "\n",
        "\n",
        "**NB:** the solutions to Exercises are provided in a separate tutorial."
      ]
    },
    {
      "cell_type": "markdown",
      "metadata": {
        "id": "yPGW8XTgWV5w"
      },
      "source": [
        "## Part 1. Static Word Embeddings\n",
        "\n",
        "Before using pretrained language models, we will first learn about what word embeddings are and how they can represent useful information about the meanings and grammatical properties of words.\n",
        "\n",
        "Word embeddings represent words as points in a continuous, multi-dimensional **semantic space**, where distance reflects similarity of meaning or usage. Words that occur in similar contexts (for example, *king* and *queen*) tend to be close together in this space.\n"
      ]
    },
    {
      "cell_type": "markdown",
      "metadata": {
        "id": "mU1PvX_xCGjq"
      },
      "source": [
        "### Setup\n",
        "> While the environment is being set up and required files are downloading,  \n",
        "> please continue reading the instructions below."
      ]
    },
    {
      "cell_type": "code",
      "execution_count": null,
      "metadata": {
        "id": "Kc_KCzVEGTPS"
      },
      "outputs": [],
      "source": [
        "# --- Install required libraries ---\n",
        "!pip install -q numpy pandas matplotlib seaborn scikit-learn plotly wget\n"
      ]
    },
    {
      "cell_type": "code",
      "execution_count": null,
      "metadata": {
        "id": "IYR--4VUGi9W"
      },
      "outputs": [],
      "source": [
        "import os, pathlib, numpy as np, pandas as pd\n",
        "from sklearn.decomposition import PCA\n",
        "import matplotlib.pyplot as plt, seaborn as sns, plotly.express as px\n",
        "import wget"
      ]
    },
    {
      "cell_type": "code",
      "execution_count": null,
      "metadata": {
        "cellView": "form",
        "id": "37LpZgDfp6P7"
      },
      "outputs": [],
      "source": [
        "#@title Helper functions (part 1)\n",
        "# --- Load GloVe static embeddings ---\n",
        "def load_glove_model(dim=100):\n",
        "    import os, wget, numpy as np, pathlib\n",
        "    \"\"\"\n",
        "    Downloads and loads GloVe vectors of chosen dimensionality.\n",
        "    dim ∈ {50, 100, 200, 300}\n",
        "    \"\"\"\n",
        "    url = \"http://nlp.stanford.edu/data/glove.6B.zip\"\n",
        "    glove_dir = pathlib.Path(\"glove.6B\")\n",
        "    glove_file = glove_dir / f\"glove.6B.{dim}d.txt\"\n",
        "\n",
        "    # Download and unzip if necessary\n",
        "    if not glove_file.exists():\n",
        "        print(\"📦 Downloading GloVe embeddings...\")\n",
        "        wget.download(url)\n",
        "        !unzip -q glove.6B.zip -d glove.6B\n",
        "\n",
        "    print(f\"\\n✅ Loading {glove_file.name} ...\")\n",
        "    embeddings = {}\n",
        "    with open(glove_file, 'r', encoding='utf8') as f:\n",
        "        for line in f:\n",
        "            parts = line.strip().split()\n",
        "            word, vec = parts[0], np.array(parts[1:], dtype=float)\n",
        "            embeddings[word] = vec\n",
        "    print(f\"Loaded {len(embeddings):,} word vectors ({dim} dimensions).\")\n",
        "    return embeddings\n"
      ]
    },
    {
      "cell_type": "code",
      "execution_count": null,
      "metadata": {
        "id": "lKiHmvGNry44",
        "colab": {
          "base_uri": "https://localhost:8080/"
        },
        "outputId": "ce05498f-06e8-43bb-f912-b600f0abad03"
      },
      "outputs": [
        {
          "output_type": "stream",
          "name": "stdout",
          "text": [
            "📦 Downloading GloVe embeddings...\n",
            "\n",
            "✅ Loading glove.6B.100d.txt ...\n",
            "Loaded 400,000 word vectors (100 dimensions).\n"
          ]
        }
      ],
      "source": [
        "# load glove model use helper function\n",
        "# this will take a few minute. You can also consider reducing the dimensions to save time.\n",
        "model_glove = load_glove_model(dim=100)\n"
      ]
    },
    {
      "cell_type": "markdown",
      "metadata": {
        "id": "hMRNBq4XoqPd"
      },
      "source": [
        "### 1.1 Word embeddings with pen and paper\n",
        "\n",
        "Consider the following words:\n",
        "\n",
        "**boy, girl, man, woman, king, queen, prince, princess**\n",
        "\n",
        "With pen and paper, draw two “semantic space” - one being 2D, and one being 3D - that could represent distinctions between these words.  \n",
        "- What dimensions might capture the main differences (for example, gender, age, or social status)?  \n",
        "- Where would each word be positioned in the 2D/3D space?  \n",
        "- How close would *king* and *queen* be compared to *boy* and *girl*?  \n",
        "\n",
        "**You can assume that a word such as *father* would be “non-royal.”*"
      ]
    },
    {
      "cell_type": "markdown",
      "metadata": {
        "id": "MHj1bKNEpn-g"
      },
      "source": [
        "### 1.2 Word embeddings from a computational model\n",
        "\n",
        "Now that we have a conceptual sense of what a semantic space might look like, we can examine how computers learn similar spaces automatically.\n",
        "\n",
        "We will start with **GloVe**, a classic example of *static word embeddings*.  Static embeddings assign one fixed vector to each word, regardless of the context in which it appears. Words with similar meanings occupy nearby positions in this vector space.\n",
        "\n",
        "**About GloVe**\n",
        "\n",
        "GloVe (*Global Vectors for Word Representation*) was trained on large text corpora such as Wikipedia and Gigaword using global word co-occurrence statistics. The model is based on the principle that words that frequently occur in similar contexts will have similar meanings.\n",
        "\n",
        "\n",
        "**In this section, we will:**\n",
        "1. Load pretrained GloVe embeddings.  \n",
        "2. Extract vectors for a small set of words.  \n",
        "3. Visualize these high-dimensional vectors in a 2-dimensional space using principal component analysis (PCA).  \n",
        "4. Interpret how semantic relationships such as gender or royalty appear geometrically in the resulting space.\n",
        "\n",
        "**About PCA in Word Embeddings**  \n",
        "\n",
        "Word embeddings are high-dimensional — each word is represented by a vector of dozens or hundreds of numbers.  \n",
        "While these vectors encode rich information about meaning and relationships, they exist in a space that’s difficult to visualize directly.  \n",
        "\n",
        "To explore this structure, we use **Principal Component Analysis (PCA)** — a dimensionality reduction technique that projects high-dimensional data onto a smaller number of axes (typically 2 or 3) that capture the greatest amount of variance in the data.  \n",
        "\n",
        "PCA works by finding new, **orthogonal directions (principal components)** in the data that explain as much variation as possible. By keeping only the top few components, we can summarize the global structure of the embedding space in a small number of interpretable dimensions.  \n",
        "\n",
        "This kind of visualization doesn’t capture every nuance of the full space, but it gives us an **intuitive map** of how meaning is organized — making abstract numerical relationships more interpretable.\n"
      ]
    },
    {
      "cell_type": "code",
      "execution_count": null,
      "metadata": {
        "id": "-RCl7tE7wsiU"
      },
      "outputs": [],
      "source": [
        "# Define the words to explore\n",
        "words = [\"boy\", \"girl\", \"man\", \"woman\", \"king\", \"queen\", \"prince\", \"princess\"]\n",
        "\n",
        "# Retrieve their vector representations\n",
        "word_vecs = np.array([model_glove[w] for w in words])\n",
        "\n",
        "# --- Create a DataFrame for convenience ---\n",
        "static_embeddings = pd.DataFrame(word_vecs, index=words)"
      ]
    },
    {
      "cell_type": "code",
      "execution_count": null,
      "metadata": {
        "id": "hlSq8D5uwuyj",
        "colab": {
          "base_uri": "https://localhost:8080/",
          "height": 517
        },
        "outputId": "4da16084-09ae-4985-bcd8-5d2e8a385654"
      },
      "outputs": [
        {
          "output_type": "display_data",
          "data": {
            "text/html": [
              "<html>\n",
              "<head><meta charset=\"utf-8\" /></head>\n",
              "<body>\n",
              "    <div>            <script src=\"https://cdnjs.cloudflare.com/ajax/libs/mathjax/2.7.5/MathJax.js?config=TeX-AMS-MML_SVG\"></script><script type=\"text/javascript\">if (window.MathJax && window.MathJax.Hub && window.MathJax.Hub.Config) {window.MathJax.Hub.Config({SVG: {font: \"STIX-Web\"}});}</script>                <script type=\"text/javascript\">window.PlotlyConfig = {MathJaxConfig: 'local'};</script>\n",
              "        <script charset=\"utf-8\" src=\"https://cdn.plot.ly/plotly-2.35.2.min.js\"></script>                <div id=\"03a924fc-e26b-44af-89ed-1b7dbc756cb1\" class=\"plotly-graph-div\" style=\"height:500px; width:700px;\"></div>            <script type=\"text/javascript\">                                    window.PLOTLYENV=window.PLOTLYENV || {};                                    if (document.getElementById(\"03a924fc-e26b-44af-89ed-1b7dbc756cb1\")) {                    Plotly.newPlot(                        \"03a924fc-e26b-44af-89ed-1b7dbc756cb1\",                        [{\"hovertemplate\":\"PC1=%{x}\\u003cbr\\u003ePC2=%{y}\\u003cbr\\u003eindex=%{text}\\u003cextra\\u003e\\u003c\\u002fextra\\u003e\",\"legendgroup\":\"\",\"marker\":{\"color\":\"#636efa\",\"symbol\":\"circle\",\"size\":10},\"mode\":\"markers+text\",\"name\":\"\",\"orientation\":\"v\",\"showlegend\":false,\"text\":[\"boy\",\"girl\",\"man\",\"woman\",\"king\",\"queen\",\"prince\",\"princess\"],\"x\":[2.3843056010249244,2.673670771094927,2.0229274810347713,2.789693594259522,-2.9307667047408397,-2.2954621691446824,-2.8087615213375043,-1.835607052191121],\"xaxis\":\"x\",\"y\":[-0.7255996662512242,0.9746203170668303,-1.6229233093827555,0.4735290262136984,-2.224662172648685,1.2746176525767914,-0.9133227865855846,2.763740939010928],\"yaxis\":\"y\",\"type\":\"scatter\",\"textposition\":\"top center\"}],                        {\"template\":{\"data\":{\"histogram2dcontour\":[{\"type\":\"histogram2dcontour\",\"colorbar\":{\"outlinewidth\":0,\"ticks\":\"\"},\"colorscale\":[[0.0,\"#0d0887\"],[0.1111111111111111,\"#46039f\"],[0.2222222222222222,\"#7201a8\"],[0.3333333333333333,\"#9c179e\"],[0.4444444444444444,\"#bd3786\"],[0.5555555555555556,\"#d8576b\"],[0.6666666666666666,\"#ed7953\"],[0.7777777777777778,\"#fb9f3a\"],[0.8888888888888888,\"#fdca26\"],[1.0,\"#f0f921\"]]}],\"choropleth\":[{\"type\":\"choropleth\",\"colorbar\":{\"outlinewidth\":0,\"ticks\":\"\"}}],\"histogram2d\":[{\"type\":\"histogram2d\",\"colorbar\":{\"outlinewidth\":0,\"ticks\":\"\"},\"colorscale\":[[0.0,\"#0d0887\"],[0.1111111111111111,\"#46039f\"],[0.2222222222222222,\"#7201a8\"],[0.3333333333333333,\"#9c179e\"],[0.4444444444444444,\"#bd3786\"],[0.5555555555555556,\"#d8576b\"],[0.6666666666666666,\"#ed7953\"],[0.7777777777777778,\"#fb9f3a\"],[0.8888888888888888,\"#fdca26\"],[1.0,\"#f0f921\"]]}],\"heatmap\":[{\"type\":\"heatmap\",\"colorbar\":{\"outlinewidth\":0,\"ticks\":\"\"},\"colorscale\":[[0.0,\"#0d0887\"],[0.1111111111111111,\"#46039f\"],[0.2222222222222222,\"#7201a8\"],[0.3333333333333333,\"#9c179e\"],[0.4444444444444444,\"#bd3786\"],[0.5555555555555556,\"#d8576b\"],[0.6666666666666666,\"#ed7953\"],[0.7777777777777778,\"#fb9f3a\"],[0.8888888888888888,\"#fdca26\"],[1.0,\"#f0f921\"]]}],\"heatmapgl\":[{\"type\":\"heatmapgl\",\"colorbar\":{\"outlinewidth\":0,\"ticks\":\"\"},\"colorscale\":[[0.0,\"#0d0887\"],[0.1111111111111111,\"#46039f\"],[0.2222222222222222,\"#7201a8\"],[0.3333333333333333,\"#9c179e\"],[0.4444444444444444,\"#bd3786\"],[0.5555555555555556,\"#d8576b\"],[0.6666666666666666,\"#ed7953\"],[0.7777777777777778,\"#fb9f3a\"],[0.8888888888888888,\"#fdca26\"],[1.0,\"#f0f921\"]]}],\"contourcarpet\":[{\"type\":\"contourcarpet\",\"colorbar\":{\"outlinewidth\":0,\"ticks\":\"\"}}],\"contour\":[{\"type\":\"contour\",\"colorbar\":{\"outlinewidth\":0,\"ticks\":\"\"},\"colorscale\":[[0.0,\"#0d0887\"],[0.1111111111111111,\"#46039f\"],[0.2222222222222222,\"#7201a8\"],[0.3333333333333333,\"#9c179e\"],[0.4444444444444444,\"#bd3786\"],[0.5555555555555556,\"#d8576b\"],[0.6666666666666666,\"#ed7953\"],[0.7777777777777778,\"#fb9f3a\"],[0.8888888888888888,\"#fdca26\"],[1.0,\"#f0f921\"]]}],\"surface\":[{\"type\":\"surface\",\"colorbar\":{\"outlinewidth\":0,\"ticks\":\"\"},\"colorscale\":[[0.0,\"#0d0887\"],[0.1111111111111111,\"#46039f\"],[0.2222222222222222,\"#7201a8\"],[0.3333333333333333,\"#9c179e\"],[0.4444444444444444,\"#bd3786\"],[0.5555555555555556,\"#d8576b\"],[0.6666666666666666,\"#ed7953\"],[0.7777777777777778,\"#fb9f3a\"],[0.8888888888888888,\"#fdca26\"],[1.0,\"#f0f921\"]]}],\"mesh3d\":[{\"type\":\"mesh3d\",\"colorbar\":{\"outlinewidth\":0,\"ticks\":\"\"}}],\"scatter\":[{\"fillpattern\":{\"fillmode\":\"overlay\",\"size\":10,\"solidity\":0.2},\"type\":\"scatter\"}],\"parcoords\":[{\"type\":\"parcoords\",\"line\":{\"colorbar\":{\"outlinewidth\":0,\"ticks\":\"\"}}}],\"scatterpolargl\":[{\"type\":\"scatterpolargl\",\"marker\":{\"colorbar\":{\"outlinewidth\":0,\"ticks\":\"\"}}}],\"bar\":[{\"error_x\":{\"color\":\"#2a3f5f\"},\"error_y\":{\"color\":\"#2a3f5f\"},\"marker\":{\"line\":{\"color\":\"#E5ECF6\",\"width\":0.5},\"pattern\":{\"fillmode\":\"overlay\",\"size\":10,\"solidity\":0.2}},\"type\":\"bar\"}],\"scattergeo\":[{\"type\":\"scattergeo\",\"marker\":{\"colorbar\":{\"outlinewidth\":0,\"ticks\":\"\"}}}],\"scatterpolar\":[{\"type\":\"scatterpolar\",\"marker\":{\"colorbar\":{\"outlinewidth\":0,\"ticks\":\"\"}}}],\"histogram\":[{\"marker\":{\"pattern\":{\"fillmode\":\"overlay\",\"size\":10,\"solidity\":0.2}},\"type\":\"histogram\"}],\"scattergl\":[{\"type\":\"scattergl\",\"marker\":{\"colorbar\":{\"outlinewidth\":0,\"ticks\":\"\"}}}],\"scatter3d\":[{\"type\":\"scatter3d\",\"line\":{\"colorbar\":{\"outlinewidth\":0,\"ticks\":\"\"}},\"marker\":{\"colorbar\":{\"outlinewidth\":0,\"ticks\":\"\"}}}],\"scattermapbox\":[{\"type\":\"scattermapbox\",\"marker\":{\"colorbar\":{\"outlinewidth\":0,\"ticks\":\"\"}}}],\"scatterternary\":[{\"type\":\"scatterternary\",\"marker\":{\"colorbar\":{\"outlinewidth\":0,\"ticks\":\"\"}}}],\"scattercarpet\":[{\"type\":\"scattercarpet\",\"marker\":{\"colorbar\":{\"outlinewidth\":0,\"ticks\":\"\"}}}],\"carpet\":[{\"aaxis\":{\"endlinecolor\":\"#2a3f5f\",\"gridcolor\":\"white\",\"linecolor\":\"white\",\"minorgridcolor\":\"white\",\"startlinecolor\":\"#2a3f5f\"},\"baxis\":{\"endlinecolor\":\"#2a3f5f\",\"gridcolor\":\"white\",\"linecolor\":\"white\",\"minorgridcolor\":\"white\",\"startlinecolor\":\"#2a3f5f\"},\"type\":\"carpet\"}],\"table\":[{\"cells\":{\"fill\":{\"color\":\"#EBF0F8\"},\"line\":{\"color\":\"white\"}},\"header\":{\"fill\":{\"color\":\"#C8D4E3\"},\"line\":{\"color\":\"white\"}},\"type\":\"table\"}],\"barpolar\":[{\"marker\":{\"line\":{\"color\":\"#E5ECF6\",\"width\":0.5},\"pattern\":{\"fillmode\":\"overlay\",\"size\":10,\"solidity\":0.2}},\"type\":\"barpolar\"}],\"pie\":[{\"automargin\":true,\"type\":\"pie\"}]},\"layout\":{\"autotypenumbers\":\"strict\",\"colorway\":[\"#636efa\",\"#EF553B\",\"#00cc96\",\"#ab63fa\",\"#FFA15A\",\"#19d3f3\",\"#FF6692\",\"#B6E880\",\"#FF97FF\",\"#FECB52\"],\"font\":{\"color\":\"#2a3f5f\"},\"hovermode\":\"closest\",\"hoverlabel\":{\"align\":\"left\"},\"paper_bgcolor\":\"white\",\"plot_bgcolor\":\"#E5ECF6\",\"polar\":{\"bgcolor\":\"#E5ECF6\",\"angularaxis\":{\"gridcolor\":\"white\",\"linecolor\":\"white\",\"ticks\":\"\"},\"radialaxis\":{\"gridcolor\":\"white\",\"linecolor\":\"white\",\"ticks\":\"\"}},\"ternary\":{\"bgcolor\":\"#E5ECF6\",\"aaxis\":{\"gridcolor\":\"white\",\"linecolor\":\"white\",\"ticks\":\"\"},\"baxis\":{\"gridcolor\":\"white\",\"linecolor\":\"white\",\"ticks\":\"\"},\"caxis\":{\"gridcolor\":\"white\",\"linecolor\":\"white\",\"ticks\":\"\"}},\"coloraxis\":{\"colorbar\":{\"outlinewidth\":0,\"ticks\":\"\"}},\"colorscale\":{\"sequential\":[[0.0,\"#0d0887\"],[0.1111111111111111,\"#46039f\"],[0.2222222222222222,\"#7201a8\"],[0.3333333333333333,\"#9c179e\"],[0.4444444444444444,\"#bd3786\"],[0.5555555555555556,\"#d8576b\"],[0.6666666666666666,\"#ed7953\"],[0.7777777777777778,\"#fb9f3a\"],[0.8888888888888888,\"#fdca26\"],[1.0,\"#f0f921\"]],\"sequentialminus\":[[0.0,\"#0d0887\"],[0.1111111111111111,\"#46039f\"],[0.2222222222222222,\"#7201a8\"],[0.3333333333333333,\"#9c179e\"],[0.4444444444444444,\"#bd3786\"],[0.5555555555555556,\"#d8576b\"],[0.6666666666666666,\"#ed7953\"],[0.7777777777777778,\"#fb9f3a\"],[0.8888888888888888,\"#fdca26\"],[1.0,\"#f0f921\"]],\"diverging\":[[0,\"#8e0152\"],[0.1,\"#c51b7d\"],[0.2,\"#de77ae\"],[0.3,\"#f1b6da\"],[0.4,\"#fde0ef\"],[0.5,\"#f7f7f7\"],[0.6,\"#e6f5d0\"],[0.7,\"#b8e186\"],[0.8,\"#7fbc41\"],[0.9,\"#4d9221\"],[1,\"#276419\"]]},\"xaxis\":{\"gridcolor\":\"white\",\"linecolor\":\"white\",\"ticks\":\"\",\"title\":{\"standoff\":15},\"zerolinecolor\":\"white\",\"automargin\":true,\"zerolinewidth\":2},\"yaxis\":{\"gridcolor\":\"white\",\"linecolor\":\"white\",\"ticks\":\"\",\"title\":{\"standoff\":15},\"zerolinecolor\":\"white\",\"automargin\":true,\"zerolinewidth\":2},\"scene\":{\"xaxis\":{\"backgroundcolor\":\"#E5ECF6\",\"gridcolor\":\"white\",\"linecolor\":\"white\",\"showbackground\":true,\"ticks\":\"\",\"zerolinecolor\":\"white\",\"gridwidth\":2},\"yaxis\":{\"backgroundcolor\":\"#E5ECF6\",\"gridcolor\":\"white\",\"linecolor\":\"white\",\"showbackground\":true,\"ticks\":\"\",\"zerolinecolor\":\"white\",\"gridwidth\":2},\"zaxis\":{\"backgroundcolor\":\"#E5ECF6\",\"gridcolor\":\"white\",\"linecolor\":\"white\",\"showbackground\":true,\"ticks\":\"\",\"zerolinecolor\":\"white\",\"gridwidth\":2}},\"shapedefaults\":{\"line\":{\"color\":\"#2a3f5f\"}},\"annotationdefaults\":{\"arrowcolor\":\"#2a3f5f\",\"arrowhead\":0,\"arrowwidth\":1},\"geo\":{\"bgcolor\":\"white\",\"landcolor\":\"#E5ECF6\",\"subunitcolor\":\"white\",\"showland\":true,\"showlakes\":true,\"lakecolor\":\"white\"},\"title\":{\"x\":0.05},\"mapbox\":{\"style\":\"light\"}}},\"xaxis\":{\"anchor\":\"y\",\"domain\":[0.0,1.0],\"title\":{\"text\":\"PC1\"}},\"yaxis\":{\"anchor\":\"x\",\"domain\":[0.0,1.0],\"title\":{\"text\":\"PC2\"}},\"legend\":{\"tracegroupgap\":0},\"title\":{\"text\":\"Semantic Space of Static Word Embeddings (GloVe)\"},\"height\":500,\"width\":700},                        {\"responsive\": true}                    ).then(function(){\n",
              "                            \n",
              "var gd = document.getElementById('03a924fc-e26b-44af-89ed-1b7dbc756cb1');\n",
              "var x = new MutationObserver(function (mutations, observer) {{\n",
              "        var display = window.getComputedStyle(gd).display;\n",
              "        if (!display || display === 'none') {{\n",
              "            console.log([gd, 'removed!']);\n",
              "            Plotly.purge(gd);\n",
              "            observer.disconnect();\n",
              "        }}\n",
              "}});\n",
              "\n",
              "// Listen for the removal of the full notebook cells\n",
              "var notebookContainer = gd.closest('#notebook-container');\n",
              "if (notebookContainer) {{\n",
              "    x.observe(notebookContainer, {childList: true});\n",
              "}}\n",
              "\n",
              "// Listen for the clearing of the current output cell\n",
              "var outputEl = gd.closest('.output');\n",
              "if (outputEl) {{\n",
              "    x.observe(outputEl, {childList: true});\n",
              "}}\n",
              "\n",
              "                        })                };                            </script>        </div>\n",
              "</body>\n",
              "</html>"
            ]
          },
          "metadata": {}
        }
      ],
      "source": [
        "# --- Dimensionality reduction for visualization (2D PCA) ---\n",
        "pca = PCA(n_components=2)\n",
        "coords = pca.fit_transform(static_embeddings)\n",
        "data_pca = pd.DataFrame(coords, columns=['PC1', 'PC2'], index=words)\n",
        "\n",
        "# --- Plot in 2D space ---\n",
        "fig = px.scatter(\n",
        "    data_pca,\n",
        "    x='PC1',\n",
        "    y='PC2',\n",
        "    text=data_pca.index,\n",
        "    title=\"Semantic Space of Static Word Embeddings (GloVe)\",\n",
        "    width=700,\n",
        "    height=500\n",
        ")\n",
        "fig.update_traces(textposition='top center', marker=dict(size=10))\n",
        "fig.show()"
      ]
    },
    {
      "cell_type": "markdown",
      "metadata": {
        "id": "F02-zvOhaVUO"
      },
      "source": [
        "## Exercise 1. Exploring Static Word Embeddings\n",
        "\n",
        "### 1. Inspect the 2-D semantic space\n",
        "Examine where each word is positioned in your PCA plot.  \n",
        "- Think about\n",
        "  - Do similar words (e.g., *man–woman*, *king–queen*) cluster together?  \n",
        "  - Does the overall layout resemble the conceptual 2D space you sketched earlier in the **pen-and-paper exercise**?  \n",
        "- Try giving each axis a **conceptual label**.\n",
        "\n",
        "\n",
        "### 2. Visualize in 3-D\n",
        "- Re-run your analysis with **three principal components** and create a 3-D scatter plot.  \n",
        "- Think about\n",
        "  - Does the extra dimension reveal new patterns?  \n",
        "  - Does the overall layout resemble the conceptual 3D space you sketched earlier in the **pen-and-paper exercise**?  \n",
        "  - Are the relationships between words easier or harder to interpret?\n",
        "\n",
        "\n",
        "### 3. (Optional) Compare other static embedding models\n",
        "- Explore how different pre-trained **static word embeddings** capture meaning (e.g., Word2Vec (skip-gram, CBOW), fastText).\n",
        "- Compare how the **positions and clusters** of words differ across these embeddings. Which relationships remain consistent? Which ones change?\n"
      ]
    },
    {
      "cell_type": "markdown",
      "metadata": {
        "id": "0cDq_M0zXyEt"
      },
      "source": [
        "## Part 2. Contextualized Word Embeddings\n",
        "In this section, we will work with **BERT**, a transformer-based language model that learns *context-dependent* representations of words.\n",
        "\n",
        "Unlike GloVe, which assigns a single fixed vector to each word, BERT dynamically adjusts a word’s embedding depending on its surrounding context. The same word can therefore have different representations in different sentences.\n",
        "\n"
      ]
    },
    {
      "cell_type": "markdown",
      "metadata": {
        "id": "9swsZ78iD3DN"
      },
      "source": [
        "### Setup\n",
        "> GloVe uses only lightweight libraries (like NumPy and scikit-learn), while BERT and the fMRI analyses require additional, heavier packages, such as PyTorch, Transformers, and Nilearn.  \n",
        ">\n",
        "> To keep the tutorial clean and avoid version or memory conflicts,  \n",
        "> we’ll reset the Colab environment before moving to Part 2.\n",
        ">\n",
        "> **To reset:**\n",
        "> 1. Go to the menu: **Runtime → Restart session**  \n",
        "> 2. After the restart, re-run the setup cell below to initialize the new environment.\n",
        "\n",
        "\n",
        "> While the environment is being set up and required files are downloading,  \n",
        "> please continue reading the instructions below.\n"
      ]
    },
    {
      "cell_type": "code",
      "source": [
        "!pip install -q --upgrade pip\n",
        "!pip install -q torch transformers scipy wget\n",
        "!pip install -q numpy pandas seaborn matplotlib\n"
      ],
      "metadata": {
        "id": "GtC8r-xtzmcL",
        "colab": {
          "base_uri": "https://localhost:8080/"
        },
        "outputId": "513dc6d9-8433-4ff0-ac61-e53a63213593"
      },
      "execution_count": null,
      "outputs": [
        {
          "output_type": "stream",
          "name": "stdout",
          "text": [
            "\u001b[?25l   \u001b[90m━━━━━━━━━━━━━━━━━━━━━━━━━━━━━━━━━━━━━━━━\u001b[0m \u001b[32m0.0/1.8 MB\u001b[0m \u001b[31m?\u001b[0m eta \u001b[36m-:--:--\u001b[0m\r\u001b[2K   \u001b[91m━━\u001b[0m\u001b[91m╸\u001b[0m\u001b[90m━━━━━━━━━━━━━━━━━━━━━━━━━━━━━━━━━━━━━\u001b[0m \u001b[32m0.1/1.8 MB\u001b[0m \u001b[31m4.4 MB/s\u001b[0m eta \u001b[36m0:00:01\u001b[0m\r\u001b[2K   \u001b[91m━━━━━━━━━━━━━━━━━━\u001b[0m\u001b[91m╸\u001b[0m\u001b[90m━━━━━━━━━━━━━━━━━━━━━\u001b[0m \u001b[32m0.8/1.8 MB\u001b[0m \u001b[31m11.7 MB/s\u001b[0m eta \u001b[36m0:00:01\u001b[0m\r\u001b[2K   \u001b[91m━━━━━━━━━━━━━━━━━━━━━━━━━━━━━━━━━━━━━━━\u001b[0m\u001b[91m╸\u001b[0m \u001b[32m1.8/1.8 MB\u001b[0m \u001b[31m19.6 MB/s\u001b[0m eta \u001b[36m0:00:01\u001b[0m\r\u001b[2K   \u001b[90m━━━━━━━━━━━━━━━━━━━━━━━━━━━━━━━━━━━━━━━━\u001b[0m \u001b[32m1.8/1.8 MB\u001b[0m \u001b[31m15.6 MB/s\u001b[0m eta \u001b[36m0:00:00\u001b[0m\n",
            "\u001b[?25h  Preparing metadata (setup.py) ... \u001b[?25l\u001b[?25hdone\n",
            "\u001b[33m  DEPRECATION: Building 'wget' using the legacy setup.py bdist_wheel mechanism, which will be removed in a future version. pip 25.3 will enforce this behaviour change. A possible replacement is to use the standardized build interface by setting the `--use-pep517` option, (possibly combined with `--no-build-isolation`), or adding a `pyproject.toml` file to the source tree of 'wget'. Discussion can be found at https://github.com/pypa/pip/issues/6334\u001b[0m\u001b[33m\n",
            "\u001b[0m  Building wheel for wget (setup.py) ... \u001b[?25l\u001b[?25hdone\n"
          ]
        }
      ]
    },
    {
      "cell_type": "code",
      "source": [
        "# --- Standard Library ---\n",
        "import os\n",
        "import math\n",
        "import copy\n",
        "import itertools\n",
        "from collections import defaultdict\n",
        "\n",
        "# --- Scientific / Numeric ---\n",
        "import numpy as np\n",
        "import pandas as pd\n",
        "from scipy import stats\n",
        "from scipy.spatial.distance import cosine, euclidean, pdist, squareform, cdist\n",
        "\n",
        "# --- Deep Learning / NLP ---\n",
        "import torch\n",
        "import transformers\n",
        "from torch.nn import functional as F\n",
        "from transformers import AutoModel, AutoTokenizer\n",
        "\n",
        "# --- Visualization ---\n",
        "import matplotlib.pyplot as plt\n",
        "import seaborn as sns\n",
        "import plotly.express as px\n",
        "from sklearn.decomposition import PCA\n",
        "\n",
        "# --- Utilities ---\n",
        "import wget\n"
      ],
      "metadata": {
        "id": "J2sqJdO7EvF9"
      },
      "execution_count": null,
      "outputs": []
    },
    {
      "cell_type": "code",
      "execution_count": null,
      "metadata": {
        "cellView": "form",
        "id": "3dT1qUi6TEL4"
      },
      "outputs": [],
      "source": [
        "#@title Helper functions (part 2 and 3)\n",
        "def get_vectors(model, tokenizer, texts):\n",
        "  \"\"\"\n",
        "  Return vector embeddings for each text in texts, for each layer of the model.\n",
        "  \"\"\"\n",
        "  text_words = []\n",
        "  text_vecs = defaultdict(list)\n",
        "\n",
        "  for text in texts:\n",
        "    encoded = tokenizer(text, return_tensors=\"pt\")\n",
        "    input_ids = encoded['input_ids']\n",
        "    attention_mask = encoded['attention_mask']\n",
        "    output = model(input_ids=input_ids, attention_mask=attention_mask)\n",
        "    states = output.hidden_states\n",
        "    token_len = attention_mask.sum().item()\n",
        "    decoded = tokenizer.convert_ids_to_tokens(input_ids[0], skip_special_tokens=False)\n",
        "    if \"GPT2\" in str(model):\n",
        "      word_indices = np.array(list(map(lambda e: -1 if e is None else e, encoded.word_ids())))[:token_len]\n",
        "      word_groups = np.split(np.arange(word_indices.shape[0]), np.unique(word_indices, return_index=True)[1])[1:]\n",
        "      text_words.append([\"\".join(list(map(lambda t: t[1:] if t[:1] == \"Ġ\" else t, np.array(decoded)[g]))) for g in word_groups])\n",
        "      num_layers = len(model.base_model.h)\n",
        "      emb_layer = model.wte\n",
        "    elif \"Bert\" in str(model):\n",
        "      word_indices = np.array(list(map(lambda e: -1 if e is None else e, encoded.word_ids())))[1:token_len - 1]\n",
        "      word_groups = np.split(np.arange(word_indices.shape[0]) + 1, np.unique(word_indices, return_index=True)[1])[1:]\n",
        "      text_words.append([\"\".join(list(map(lambda t: t[2:] if t[:2] == \"##\" else t, np.array(decoded)[g]))) for g in word_groups])\n",
        "      if \"DistilBert\" in str(model):\n",
        "        num_layers = len(model.base_model.transformer.layer)\n",
        "      else:\n",
        "        num_layers = len(model.base_model.encoder.layer)\n",
        "      emb_layer = model.embeddings.word_embeddings\n",
        "    else:\n",
        "      return NotImplementedError\n",
        "\n",
        "    for layer in range(0,num_layers+1):\n",
        "      text_tokens_output = torch.stack([\n",
        "          torch.stack([\n",
        "              # model layer embedding\n",
        "              states[layer].detach()[:, token_ids_word].mean(axis=1)\n",
        "              if layer > 0 else\n",
        "              # input embedding\n",
        "              emb_layer(input_ids)[:, token_ids_word].mean(axis=1)\n",
        "              ]).sum(axis=0).squeeze()\n",
        "              for token_ids_word in word_groups\n",
        "      ])\n",
        "      text_vecs[layer].append(text_tokens_output.numpy())\n",
        "\n",
        "  for layer in range(0,num_layers+1):\n",
        "    text_vecs[layer] = np.vstack(text_vecs[layer])\n",
        "\n",
        "  return text_vecs\n",
        "\n",
        "def compute_distance_matrices(vecs, measure):\n",
        "  distance_matrices = [\n",
        "    cdist(vecs[i], vecs[i], measure).round(10)\n",
        "        for i in range(len(vecs))\n",
        "  ]\n",
        "  return distance_matrices\n",
        "\n",
        "def plot_sentence_RDMs(sentences, distance_matrices, model_name, tokenizer):\n",
        "  labels = [tokenizer.convert_ids_to_tokens(ids) for ids in tokenizer(sentences)['input_ids']][0][1:-1]\n",
        "\n",
        "  plot_data = [\n",
        "      (\"xy\", 0, \"input embeddings\"),\n",
        "      (\"x\", 1, \"layer 1\"),\n",
        "      (\"xy\", 5, \"layer 5\"),\n",
        "      (\"x\", 11, \"layer 11\"),\n",
        "  ]\n",
        "\n",
        "  fig, axes = plt.subplots(nrows=2, ncols=2, figsize=(18, 24))\n",
        "  fig.suptitle(model_name + ': distance matrices between word embeddings', y=0.9, weight='bold')\n",
        "\n",
        "  for subplot, (label_axes, matrix_index, title) in zip(itertools.chain.from_iterable(axes), plot_data):\n",
        "      heatmap_args = dict(\n",
        "          linewidth=1,\n",
        "          annot = np.array([[f\"{v:.2f}\" if (v == 0 or len(str(v)) > 4)\n",
        "          else f\"{v:.1f}\" for v in r] for r in distance_matrices[matrix_index]]),\n",
        "          annot_kws={\"size\":6.5},\n",
        "          fmt=\"\",\n",
        "          cmap = 'magma_r',\n",
        "          xticklabels=labels,\n",
        "          yticklabels=labels,\n",
        "      )\n",
        "\n",
        "      heatmap = sns.heatmap(distance_matrices[matrix_index], ax=subplot, **heatmap_args)\n",
        "      subplot.set_title(title)\n",
        "      for axis in [x for x in \"xy\" if x not in label_axes]:\n",
        "          getattr(subplot, f\"{axis}axis\").set_visible(False)\n",
        "      subplot.set_yticklabels(labels, rotation=0)\n",
        "      subplot.set_xticklabels(labels, rotation=90)\n",
        "  plt.show()\n",
        "\n",
        "def my_correlation_rsa(DM1, DM2, method='spearman'):\n",
        "    \"\"\"\n",
        "    Compute representational similarity between two distance matrices.\n",
        "    \"\"\"\n",
        "    # selection elements of the upper triangle\n",
        "    elements1 = DM1[np.triu_indices(DM1.shape[1],k=1)]\n",
        "    elements2 = DM2[np.triu_indices(DM2.shape[1],k=1)]\n",
        "\n",
        "    # compute correlation\n",
        "    if method == 'pearson':\n",
        "        correlation_of_similarities = stats.pearsonr(elements1, elements2)\n",
        "    elif method == 'spearman':\n",
        "        correlation_of_similarities = stats.spearmanr(elements1, elements2)\n",
        "    else:\n",
        "        return NotImplementedError\n",
        "\n",
        "    return correlation_of_similarities\n",
        "\n",
        "def RSA_matrix(distance_matrices, method='spearman'):\n",
        "    # create the matrix to fill with the results\n",
        "    result_matrix = np.ones((len(distance_matrices), len(distance_matrices)))\n",
        "    for left_ix, right_ix in itertools.combinations(range(len(distance_matrices)), 2):\n",
        "        left = distance_matrices[left_ix]\n",
        "        right = distance_matrices[right_ix]\n",
        "        # compute RS\n",
        "        correlation, p_value = my_correlation_rsa(left, right, method=method)\n",
        "        # put the result in the matrix\n",
        "        result_matrix[left_ix][right_ix] = correlation\n",
        "        # (optionally) also in the other triangle\n",
        "        result_matrix[right_ix][left_ix] = correlation\n",
        "    return result_matrix\n",
        "\n",
        "def plot_RSA(result_matrix, model_name, dist_method):\n",
        "    layer_labels = [\"input embedding\"] + [\"layer \" + str(l) for l in range(1, len(result_matrix))]\n",
        "    plt.figure(figsize = (10,6))\n",
        "    ax = sns.heatmap(result_matrix, annot = True,\n",
        "                    cmap = 'magma_r',\n",
        "                    xticklabels=layer_labels,\n",
        "                    yticklabels=layer_labels )\n",
        "    ax.set_title(f'RSA: {model_name} embeddings across layers ({dist_method})')\n",
        "    plt.show()\n",
        "    plt.close()\n",
        "\n",
        "# --- Supported Models ---\n",
        "supported_models = [\"bert-base-uncased\", \"gpt2\"]\n",
        "\n",
        "\n",
        "# --- Data Loading & Extraction ---\n",
        "def load_subj_dict(filepath: str) -> dict:\n",
        "    \"\"\"Load one subject's .mat file into a structured Python dictionary.\"\"\"\n",
        "    subj_mat = scipy.io.loadmat(filepath)\n",
        "    subj_dict = {\"meta\": {n: [] for n in subj_mat[\"meta\"].dtype.names},\n",
        "                 \"words\": {n: [] for n in subj_mat[\"words\"].dtype.names}}\n",
        "\n",
        "    subj_dict[\"time\"] = subj_mat[\"time\"].squeeze()\n",
        "    subj_dict[\"data\"] = subj_mat[\"data\"].squeeze()\n",
        "    subj_dict[\"meta\"][\"subject\"] = int(subj_mat[\"meta\"][\"subject\"].squeeze())\n",
        "    subj_dict[\"meta\"][\"nTRs\"] = int(subj_mat[\"meta\"][\"nTRs\"].squeeze())\n",
        "    subj_dict[\"meta\"][\"nvoxels\"] = int(subj_mat[\"meta\"][\"nvoxels\"].squeeze())\n",
        "    subj_dict[\"meta\"][\"ncols\"] = subj_dict[\"data\"].shape[1]\n",
        "    subj_dict[\"meta\"][\"dimx\"] = int(subj_mat[\"meta\"][\"dimx\"].squeeze())\n",
        "    subj_dict[\"meta\"][\"dimy\"] = int(subj_mat[\"meta\"][\"dimy\"].squeeze())\n",
        "    subj_dict[\"meta\"][\"dimz\"] = int(subj_mat[\"meta\"][\"dimz\"].squeeze())\n",
        "    subj_dict[\"meta\"][\"colToCoord\"] = subj_mat[\"meta\"][\"colToCoord\"].squeeze()[()]\n",
        "    subj_dict[\"meta\"][\"coordToCol\"] = subj_mat[\"meta\"][\"coordToCol\"].squeeze()[()]\n",
        "    subj_dict[\"meta\"][\"colToROInum\"] = subj_mat[\"meta\"][\"colToROInum\"].squeeze()[()].flatten()\n",
        "    subj_dict[\"meta\"][\"coordToROInum\"] = subj_mat[\"meta\"][\"coordToROInum\"].squeeze()[()]\n",
        "    subj_dict[\"meta\"][\"ROInumToName\"] = np.array(\n",
        "        [t.squeeze()[()] for t in subj_mat[\"meta\"][\"ROInumToName\"].squeeze()[()].flatten()]\n",
        "    )\n",
        "    subj_dict[\"meta\"][\"voxel_size\"] = subj_mat[\"meta\"][\"voxel_size\"].squeeze()[()].flatten()\n",
        "    subj_dict[\"meta\"][\"matrix\"] = subj_mat[\"meta\"][\"matrix\"].squeeze()[()]\n",
        "    subj_dict[\"words\"][\"text\"] = np.array(\n",
        "        [t.squeeze()[()].item() for t in subj_mat[\"words\"][\"text\"].flatten()]\n",
        "    )\n",
        "    subj_dict[\"words\"][\"start\"] = np.array(\n",
        "        [t.squeeze()[()].item() for t in subj_mat[\"words\"][\"start\"].flatten()]\n",
        "    )\n",
        "    subj_dict[\"words\"][\"length\"] = np.array(\n",
        "        [t.squeeze()[()].item() for t in subj_mat[\"words\"][\"length\"].flatten()]\n",
        "    )\n",
        "\n",
        "    subj_dict[\"meta\"][\"coordToCol\"] = np.where(\n",
        "        subj_dict[\"meta\"][\"coordToCol\"] == 0, None, subj_dict[\"meta\"][\"coordToCol\"] - 1\n",
        "    )\n",
        "    subj_dict[\"meta\"][\"ROInumToName\"] = np.insert(\n",
        "        subj_dict[\"meta\"][\"ROInumToName\"][:-1], 0, subj_dict[\"meta\"][\"ROInumToName\"][-1]\n",
        "    )\n",
        "    return subj_dict\n",
        "\n",
        "\n",
        "def text_between(start_time: float, end_time: float, subj_dict: dict) -> list:\n",
        "    words = subj_dict[\"words\"]\n",
        "    idx = np.argwhere((words[\"start\"] >= start_time) & (words[\"start\"] < end_time))\n",
        "    text = [w[0] for w in words[\"text\"][idx]]\n",
        "    return text\n",
        "\n",
        "\n",
        "def text_at_tr(tr: int, subj_dict: dict) -> list:\n",
        "    time = subj_dict[\"time\"]\n",
        "    final_tr = len(time) - 1\n",
        "    if tr < final_tr:\n",
        "        tr_end = time[tr + 1, 0]\n",
        "    elif tr == final_tr:\n",
        "        tr_end = time[tr, 0]\n",
        "    else:\n",
        "        raise ValueError(f\"TR {tr} does not exist, final TR is {final_tr}.\")\n",
        "    tr_start = time[tr, 0]\n",
        "    return text_between(tr_start, tr_end, subj_dict)\n",
        "\n",
        "\n",
        "def get_text_TRs(subj_dict: dict):\n",
        "    tr_texts = np.array([\" \".join(text_at_tr(tr, subj_dict)) for tr in range(subj_dict[\"meta\"][\"nTRs\"])])\n",
        "    texts = np.array([t for t in tr_texts if t != \"\"])\n",
        "    text_TR_idx = np.where(tr_texts != \"\")[0]\n",
        "    return (text_TR_idx, texts)\n",
        "\n",
        "\n",
        "def data_for_ROI(ROI: list, subj_dict: dict) -> np.ndarray:\n",
        "    col2ROIname = subj_dict[\"meta\"][\"ROInumToName\"][subj_dict[\"meta\"][\"colToROInum\"]]\n",
        "    ROI_cols = np.where(np.isin(col2ROIname, ROI))\n",
        "    ROI_signal = subj_dict[\"data\"][:, ROI_cols].squeeze()\n",
        "    return ROI_signal\n",
        "\n",
        "\n",
        "def get_text_response_scans(subj_dict: dict, delay: int = 2, ROI: list = None) -> dict:\n",
        "    voxel_signals = data_for_ROI(ROI, subj_dict) if ROI else subj_dict[\"data\"]\n",
        "    text_TR_idx, texts = get_text_TRs(subj_dict)\n",
        "    brain_responses = voxel_signals[text_TR_idx + delay]\n",
        "    blocks = subj_dict[\"time\"][:, 1][text_TR_idx + delay]\n",
        "    return {\n",
        "        \"scan_TR_idx\": text_TR_idx + delay,\n",
        "        \"text_TR_idx\": text_TR_idx,\n",
        "        \"texts\": texts,\n",
        "        \"blocks\": blocks,\n",
        "        \"voxel_signals\": brain_responses,\n",
        "    }\n",
        "\n",
        "\n",
        "# --- Text & Embeddings ---\n",
        "def create_context_sentences(tr_texts: list) -> list:\n",
        "    fulltext = \" \".join(tr_texts)\n",
        "    nlp = English()\n",
        "    nlp.add_pipe(\"sentencizer\")\n",
        "    sentences = [str(s).split(\" \") for s in list(nlp(fulltext).sents)]\n",
        "\n",
        "    for i in range(len(sentences)):\n",
        "        if sentences[i][-1] == '\"':\n",
        "            del sentences[i][-1]\n",
        "            sentences[i + 1][0] = '\"' + sentences[i + 1][0]\n",
        "        if sentences[i][0] == \"+\":\n",
        "            del sentences[i][0]\n",
        "            sentences[i - 1].append(\"+\")\n",
        "\n",
        "    if not sentences[-1]:\n",
        "        del sentences[-1]\n",
        "\n",
        "    return sentences\n",
        "\n",
        "\n",
        "def get_tr_embeddings(layer_activations, words_per_tr):\n",
        "    start_word = 0\n",
        "    tr_embeddings = []\n",
        "    for n_words in words_per_tr:\n",
        "        tr_features = layer_activations[start_word : start_word + n_words]\n",
        "        tr_embeddings.append(np.mean(tr_features, axis=0))\n",
        "        start_word += n_words\n",
        "    return np.array(tr_embeddings)\n",
        "\n",
        "\n",
        "# --- Torch Dataset & Batching ---\n",
        "class WordIDsDataset(torch.utils.data.Dataset):\n",
        "    \"\"\"Dataset class to keep token-word mappings for transformer models.\"\"\"\n",
        "\n",
        "    def __init__(self, sents: transformers.tokenization_utils_base.BatchEncoding):\n",
        "        self.sents = sents\n",
        "\n",
        "    def __len__(self):\n",
        "        return self.sents[\"input_ids\"].size(0)\n",
        "\n",
        "    def __getitem__(self, idx: int):\n",
        "        sent = self.sents[idx]\n",
        "        return {\n",
        "            \"input_ids\": torch.tensor(sent.ids),\n",
        "            \"word_ids\": torch.tensor(list(map(lambda e: -1 if e is None else e, sent.word_ids))),\n",
        "            \"attention_mask\": torch.tensor(sent.attention_mask),\n",
        "        }\n",
        "\n",
        "\n",
        "def get_batches(input_dict, batch_size=1):\n",
        "    tensor_dataset = WordIDsDataset(input_dict)\n",
        "    return torch.utils.data.DataLoader(tensor_dataset, batch_size=batch_size)\n",
        "\n",
        "\n",
        "# --- Model Handling ---\n",
        "def model_init(model_identifier):\n",
        "    assert model_identifier in supported_models, f\"model_identifier must be one of {supported_models}\"\n",
        "    model = AutoModel.from_pretrained(model_identifier, output_hidden_states=True, output_attentions=True)\n",
        "    tokenizer = AutoTokenizer.from_pretrained(model_identifier)\n",
        "    if \"GPT2Model\" in str(model):\n",
        "        tokenizer.add_prefix_space = True\n",
        "        tokenizer.pad_token = tokenizer.eos_token\n",
        "    return model, tokenizer\n",
        "\n",
        "\n",
        "def get_layer_activations(model, tokenizer, input_texts):\n",
        "    encoded_texts = tokenizer.batch_encode_plus(\n",
        "        input_texts, is_split_into_words=True, padding=True, return_tensors=\"pt\"\n",
        "    )\n",
        "    dl = get_batches(encoded_texts)\n",
        "    texts_activations = []\n",
        "\n",
        "    for batch, input_dict in enumerate(dl):\n",
        "        word_ids = input_dict.pop(\"word_ids\")\n",
        "        input_ids = input_dict[\"input_ids\"]\n",
        "        attention_mask = input_dict[\"attention_mask\"]\n",
        "        token_len = attention_mask.sum().item()\n",
        "\n",
        "        if \"BertModel\" in str(model):\n",
        "            word_indices = np.array([ -1 if e is None else e for e in word_ids.numpy().squeeze()])[1 : token_len - 1]\n",
        "            word_groups = np.split(np.arange(word_indices.shape[0]) + 1, np.unique(word_indices, return_index=True)[1])[1:]\n",
        "            input_token_embeddings = model.embeddings.word_embeddings(input_ids)\n",
        "\n",
        "        elif \"GPT2Model\" in str(model):\n",
        "            word_indices = np.array([ -1 if e is None else e for e in word_ids.numpy().squeeze()])[:token_len]\n",
        "            word_groups = np.split(np.arange(word_indices.shape[0]), np.unique(word_indices, return_index=True)[1])[1:]\n",
        "            input_token_embeddings = model.wte(input_ids)\n",
        "        else:\n",
        "            raise NotImplementedError(\"only supports BERT or GPT2 models\")\n",
        "\n",
        "        model_output = model(**input_dict)\n",
        "        layer_activations = torch.stack(model_output.hidden_states)\n",
        "        layer_activations_per_word = torch.stack([\n",
        "            torch.stack([\n",
        "                layer_activations[i, 0, token_ids_word, :].mean(axis=0)\n",
        "                if i > 0 else input_token_embeddings[0, token_ids_word, :].mean(axis=0)\n",
        "                for i in range(len(model_output.hidden_states))\n",
        "            ]) for token_ids_word in word_groups\n",
        "        ])\n",
        "\n",
        "        texts_activations.append(layer_activations_per_word.detach().numpy())\n",
        "    return texts_activations\n",
        "\n",
        "\n",
        "# --- RSA and Distances ---\n",
        "def vector_distance_matrix(activations, metric=\"cosine\"):\n",
        "    return squareform(pdist(activations, metric=metric))\n",
        "\n",
        "\n",
        "def string_distance_matrix(text, normalize=False):\n",
        "    dist_mat = np.zeros((len(text), len(text)))\n",
        "    for i in range(len(text)):\n",
        "        for j in range(len(text)):\n",
        "            dist_mat[i, j] = edit_distance(text[i], text[j])\n",
        "    if normalize:\n",
        "        dist_mat /= np.linalg.norm(dist_mat)\n",
        "    return dist_mat\n",
        "\n",
        "\n",
        "def compute_rsa_score(RDM_1, RDM_2, score=\"pearsonr\"):\n",
        "    pdists1 = squareform(RDM_1)\n",
        "    pdists2 = squareform(RDM_2)\n",
        "    if score != \"pearsonr\":\n",
        "        raise NotImplementedError(\"currently only supporting pearsonr similarity score\")\n",
        "    rsa_score, _ = pearsonr(pdists1, pdists2)\n",
        "    return rsa_score\n",
        "\n",
        "\n",
        "def rsa_matrix(RDMs_1, RDMs_2, score=\"pearsonr\"):\n",
        "    rsa_mat = np.zeros((len(RDMs_1), len(RDMs_2)))\n",
        "    for i in range(len(RDMs_1)):\n",
        "        for j in range(len(RDMs_2)):\n",
        "            rsa_mat[i, j] = compute_rsa_score(RDMs_1[i], RDMs_2[j], score=score)\n",
        "    return rsa_mat\n",
        "\n",
        "def top_n_next_tokens(vocab_probs, tokenizer, top_n):\n",
        "  # top N most likely token ids\n",
        "  next_token_ids = np.argsort(vocab_probs)[0][-top_n:]\n",
        "  # find the tokens for these ids\n",
        "  next_tokens = tokenizer.decode(next_token_ids).split(' ')[1:]\n",
        "  # find the probabilities\n",
        "  next_token_probs = list(vocab_probs[:, next_token_ids][0].numpy())\n",
        "  # sort the tokens and their probabilities in descending order\n",
        "  desc_token_probs = list(zip(next_tokens, next_token_probs))[::-1]\n",
        "  return desc_token_probs\n",
        "\n",
        "\n",
        "# --- Load GloVe static embeddings ---\n",
        "def load_glove_model(dim=100):\n",
        "    import os, wget, numpy as np, pathlib\n",
        "    \"\"\"\n",
        "    Downloads and loads GloVe vectors of chosen dimensionality.\n",
        "    dim ∈ {50, 100, 200, 300}\n",
        "    \"\"\"\n",
        "    url = \"http://nlp.stanford.edu/data/glove.6B.zip\"\n",
        "    glove_dir = pathlib.Path(\"glove.6B\")\n",
        "    glove_file = glove_dir / f\"glove.6B.{dim}d.txt\"\n",
        "\n",
        "    # Download and unzip if necessary\n",
        "    if not glove_file.exists():\n",
        "        print(\"📦 Downloading GloVe embeddings...\")\n",
        "        wget.download(url)\n",
        "        !unzip -q glove.6B.zip -d glove.6B\n",
        "\n",
        "    print(f\"\\n✅ Loading {glove_file.name} ...\")\n",
        "    embeddings = {}\n",
        "    with open(glove_file, 'r', encoding='utf8') as f:\n",
        "        for line in f:\n",
        "            parts = line.strip().split()\n",
        "            word, vec = parts[0], np.array(parts[1:], dtype=float)\n",
        "            embeddings[word] = vec\n",
        "    print(f\"Loaded {len(embeddings):,} word vectors ({dim} dimensions).\")\n",
        "    return embeddings\n"
      ]
    },
    {
      "cell_type": "markdown",
      "metadata": {
        "id": "4Igkrp24qH1L"
      },
      "source": [
        "### 2.1 Static and contextualized representations in large language models\n",
        "\n",
        "In large language models such as BERT, the **input embeddings** are static—each word or token has its own unique input vector. However, these input vectors are transformed through multiple layers of the model. The **activation patterns** (or output vectors) of the higher layers capture richer, context-dependent information.  \n",
        "\n",
        "When we use these vectors as representations for words, we refer to them as **contextualized embeddings**. These embeddings often provide more useful information for downstream analyses, such as predicting brain activity or behavioral measures.\n",
        "\n",
        "**In this section, we will:**\n",
        "1. Load a pretrained BERT model and tokenizer.\n",
        "2. Extract embeddings from different layers.\n",
        "3. Compute pairwise cosine distances between word representations.\n",
        "4. Visualize the resulting **representational dissimilarity matrices (RDMs)**.\n",
        "\n",
        "\n",
        "**About BERT**\n",
        "\n",
        "BERT (Bidirectional encoder representations from transformers) was the first successful **transformer-based** model and remains one of the most influential architectures in modern NLP (natural language processing).\n",
        "\n",
        "BERT is a **masked language model**: it is trained to fill in missing words in a sentence given both the preceding and following context.  \n",
        "For example, during training, BERT sees inputs like:\n",
        "\n",
        "> \"The dog [MASK] loudly.\"\n",
        "\n",
        "and learns to predict the missing word (*barked*, or another plausible option) based on both *the dog* and *loudly*.\n"
      ]
    },
    {
      "cell_type": "code",
      "execution_count": null,
      "metadata": {
        "id": "OqZYm61AFgoK",
        "colab": {
          "base_uri": "https://localhost:8080/",
          "height": 318,
          "referenced_widgets": [
            "44ee6fc3a19c4c45840c59552233b155",
            "6cfb70100555458fb31fa40bc99a0f67",
            "e827430677774b6f97053295f3301db1",
            "024200de4b054d25ba679cdf5345c954",
            "26a88452dc4349948a765be1e021faa4",
            "8a6d2e735202470a9df4eb8df1b892b4",
            "9ded15a7e90e4d8080b20752f5efe1cc",
            "6e5fa7545a4d4c1788efba50f3000d5c",
            "afa16191ec2d4fe4b7286bc2fa901015",
            "f0ba9f3108244259ab92bad2e1bab47d",
            "df46773bb66f47bd9be044c9c92a1c8e",
            "624079758b0049f1b1b131052c30da06",
            "1b19cefe7d0440ab83c949cc102678ae",
            "5edabc1fd02a428fa1b48caf3abc816e",
            "ec5c4f03364a4ad186111c322c2155ed",
            "73ae3f699e2744d9b8fe045f3e9529fc",
            "42f6256d45dd4d1e97756766176d3362",
            "25305cc5c5884b7c9f85231fc62f4ec7",
            "856c9739ffc04925a522830eec7b7e6b",
            "8a53b1d110c2437e97a596c824b53298",
            "8034371baecb4fda978e3854de8644ab",
            "f9c459af4cbf4af795f32fa5d89dccd9",
            "3c735669c99f4311a71b17436198021a",
            "aff4c0e6651241b8bfc438d50dedcecb",
            "9b47f74418b4459fb4c37b4d0ae9576a",
            "216bdc4d8341405f91bfd1a71cfc3566",
            "2b24619f72354d469c71925971e21605",
            "1939f4f48d68465294bf0155f7b1d995",
            "233465f344a0495f89a43edffe0108a3",
            "ca89771a087d4a25bdc93a2f05384957",
            "3423e396c4b9436ab8c65398467dd11d",
            "eac16606e2234105ae7aff056f9629dd",
            "2fd4da5ac7fd453aab6039978b4c6a76",
            "99bcd532b6b340afbadb11c5740e9fd4",
            "7a8826752d214188a82dc205507feb7c",
            "a35c1cb4a3e348a39c703e112616f7c4",
            "31354a224a0c487e84a5f3e13da6c1fb",
            "12ef6459a9cc4cf6afbb67edf9c4600b",
            "1d21b824de0d4109880c7656e5f3f5af",
            "d081fc4fe729438bb52ec8d21f64b64c",
            "92c084ad0059496e8bd28588ee231600",
            "0ca1d026cc15494fb7bf3e00b0307bc0",
            "acd4b6318eae4eeab6aa0283575b5851",
            "005ac62ec66c438dbc77242a53ef77df",
            "d3035ac8a0d0439483d8709f7225ae09",
            "53ca31aab1414d2a94b5fa665a112b82",
            "551749e675ed45eeb8ee48bf74c2331a",
            "05136ca8e18044dbbb7d7ff51dd267cc",
            "00f32ef76e14406ca7fa9fc095b1c384",
            "98110ce082b54d77a1557b87018c578d",
            "041ed20d0d6e440dbf8b45b0fdcf1f7f",
            "811ed1f4653d42bbb32cfbabe88203cb",
            "cc17ede0306c44e6be0458c1028b1358",
            "cbd167c680d94a6ebab3c1580981f9e3",
            "0fc1fd71c5434786a55c7f0a827908b7"
          ]
        },
        "outputId": "b9cc1f73-8e9e-4f8d-f28e-7f8da13f06ec"
      },
      "outputs": [
        {
          "output_type": "stream",
          "name": "stderr",
          "text": [
            "/usr/local/lib/python3.12/dist-packages/huggingface_hub/utils/_auth.py:94: UserWarning: \n",
            "The secret `HF_TOKEN` does not exist in your Colab secrets.\n",
            "To authenticate with the Hugging Face Hub, create a token in your settings tab (https://huggingface.co/settings/tokens), set it as secret in your Google Colab and restart your session.\n",
            "You will be able to reuse this secret in all of your notebooks.\n",
            "Please note that authentication is recommended but still optional to access public models or datasets.\n",
            "  warnings.warn(\n"
          ]
        },
        {
          "output_type": "display_data",
          "data": {
            "text/plain": [
              "tokenizer_config.json:   0%|          | 0.00/48.0 [00:00<?, ?B/s]"
            ],
            "application/vnd.jupyter.widget-view+json": {
              "version_major": 2,
              "version_minor": 0,
              "model_id": "44ee6fc3a19c4c45840c59552233b155"
            }
          },
          "metadata": {}
        },
        {
          "output_type": "display_data",
          "data": {
            "text/plain": [
              "config.json:   0%|          | 0.00/570 [00:00<?, ?B/s]"
            ],
            "application/vnd.jupyter.widget-view+json": {
              "version_major": 2,
              "version_minor": 0,
              "model_id": "624079758b0049f1b1b131052c30da06"
            }
          },
          "metadata": {}
        },
        {
          "output_type": "display_data",
          "data": {
            "text/plain": [
              "vocab.txt:   0%|          | 0.00/232k [00:00<?, ?B/s]"
            ],
            "application/vnd.jupyter.widget-view+json": {
              "version_major": 2,
              "version_minor": 0,
              "model_id": "3c735669c99f4311a71b17436198021a"
            }
          },
          "metadata": {}
        },
        {
          "output_type": "display_data",
          "data": {
            "text/plain": [
              "tokenizer.json:   0%|          | 0.00/466k [00:00<?, ?B/s]"
            ],
            "application/vnd.jupyter.widget-view+json": {
              "version_major": 2,
              "version_minor": 0,
              "model_id": "99bcd532b6b340afbadb11c5740e9fd4"
            }
          },
          "metadata": {}
        },
        {
          "output_type": "display_data",
          "data": {
            "text/plain": [
              "model.safetensors:   0%|          | 0.00/440M [00:00<?, ?B/s]"
            ],
            "application/vnd.jupyter.widget-view+json": {
              "version_major": 2,
              "version_minor": 0,
              "model_id": "d3035ac8a0d0439483d8709f7225ae09"
            }
          },
          "metadata": {}
        },
        {
          "output_type": "stream",
          "name": "stdout",
          "text": [
            "✅ BERT model and tokenizer loaded successfully!\n"
          ]
        }
      ],
      "source": [
        "# load the model and tokenizer\n",
        "model_name = \"bert-base-uncased\"  # standard 12-layer BERT model, trained on English text with all words lowercased.\n",
        "tokenizer = AutoTokenizer.from_pretrained(model_name)\n",
        "model = AutoModel.from_pretrained(\n",
        "    model_name,\n",
        "    output_hidden_states=True,# the model will return all hidden layers’ embeddings\n",
        "    output_attentions=True # the model will also return the attention weights from each layer\n",
        ")\n",
        "\n",
        "tokenizer = AutoTokenizer.from_pretrained(model_name)\n",
        "\n",
        "torch.set_grad_enabled(False) # disables training mode\n",
        "print(\"✅ BERT model and tokenizer loaded successfully!\")\n"
      ]
    },
    {
      "cell_type": "markdown",
      "metadata": {
        "id": "vA-Gqt_kg6PJ"
      },
      "source": [
        "### 2.2 Representational similarity analysis\n",
        "\n",
        "We use methods such as **representational dissimilarity matrices (RDMs)** and **representational similarity analysis (RSA)** to understand the structure of different embedding spaces.\n",
        "\n",
        "An RDM summarizes how dissimilar each pair of representations is—often measured using **correlation distance**.  \n",
        "\n",
        "By comparing RDMs across different model layers, we can examine how semantic relationships evolve from lower (more lexical) to higher (more contextual) layers of the model.  \n"
      ]
    },
    {
      "cell_type": "code",
      "execution_count": null,
      "metadata": {
        "id": "Ok_TdRJOqCxC"
      },
      "outputs": [],
      "source": [
        "# get embedding vectors for two different sentences (using helper function get_vectors)\n",
        "sentences = [\n",
        "    \"a computer needs a mouse. a cat eats a mouse.\"\n",
        "]\n",
        "# get a dictionary of embeddings per layer\n",
        "sentence_vecs = get_vectors(model, tokenizer, sentences)"
      ]
    },
    {
      "cell_type": "code",
      "source": [
        "# inspect the embeddings\n",
        "print(f\"Total layers: {len(sentence_vecs)}\")\n",
        "print(f\"Embedding dimension: {sentence_vecs[0].shape[1]}\")\n",
        "print(f\"Tokens: {len(sentence_vecs[0])}\")\n",
        "tokens = tokenizer.tokenize(sentences[0])\n",
        "print(tokens)"
      ],
      "metadata": {
        "colab": {
          "base_uri": "https://localhost:8080/"
        },
        "id": "R9sVEG4mOr8S",
        "outputId": "b64d2a41-b618-4687-c944-a106893f4227"
      },
      "execution_count": null,
      "outputs": [
        {
          "output_type": "stream",
          "name": "stdout",
          "text": [
            "Total layers: 13\n",
            "Embedding dimension: 768\n",
            "Tokens: 12\n",
            "['a', 'computer', 'needs', 'a', 'mouse', '.', 'a', 'cat', 'eats', 'a', 'mouse', '.']\n"
          ]
        }
      ]
    },
    {
      "cell_type": "code",
      "execution_count": null,
      "metadata": {
        "id": "_QkYDlwQqKJy"
      },
      "outputs": [],
      "source": [
        "# compute distance matrices\n",
        "sentence_RDMs = compute_distance_matrices(sentence_vecs, measure=\"cosine\")\n",
        "\n",
        "# Inspect the RDM structure\n",
        "print(f\"Number of RDMs (model layers): {len(sentence_RDMs)}\")\n",
        "# Each RDM is a square matrix of token × token distances\n",
        "print(f\"Shape of one RDM: {sentence_RDMs[0].shape}\")\n",
        "# Check a small slice of the first RDM\n",
        "print(\"\\nExample RDM (first 5 tokens):\")\n",
        "print(np.round(sentence_RDMs[0][:5, :5], 2))"
      ]
    },
    {
      "cell_type": "code",
      "execution_count": null,
      "metadata": {
        "id": "SaaccwdCqLP7",
        "colab": {
          "base_uri": "https://localhost:8080/",
          "height": 1000
        },
        "outputId": "6fb86964-86bb-4acc-b103-89156cc23a5a"
      },
      "outputs": [
        {
          "output_type": "display_data",
          "data": {
            "text/plain": [
              "<Figure size 1800x2400 with 8 Axes>"
            ],
            "image/png": "[encoded data removed]"
          },
          "metadata": {}
        }
      ],
      "source": [
        "# plotting the RDMs using the helper codes plot_sentence_RDMs\n",
        "# The code shows a small, representative subet of layers (input, 1, 5, 11)\n",
        "plot_sentence_RDMs(sentences, sentence_RDMs, model_name, tokenizer)"
      ]
    },
    {
      "cell_type": "markdown",
      "source": [
        "####Reflection\n",
        "- Look closely at the four heatmaps showing distance matrices between word embeddings across different BERT layers.\n",
        "- What information is captured by RDMs at different layers?"
      ],
      "metadata": {
        "id": "kVe1EqfTagOg"
      }
    },
    {
      "cell_type": "markdown",
      "source": [
        "#### Interpretation and Take-away\n",
        "\n",
        "- Look closely at the four heatmaps showing distance matrices between word embeddings across different BERT layers.\n",
        "  - Each heatmap is a distance matrix between embeddings of the words in two similar sentences:\n",
        "  - The distance value (0 → yellow = similar; 1 → purple/black = dissimilar) shows how far apart the word representations are in that layer.\n",
        "\n",
        "- What information is captured by RDMs at different layers?\n",
        "  - At the input layer, “mouse” (in computer context) and “mouse” (in cat context) are identical — the model hasn’t seen context yet.\n",
        "→ They share exactly the same token embedding.\n",
        "  - As we move to higher layers, the embeddings become contextualized:\n",
        "The model differentiates “mouse (device)” vs “mouse (animal)” by integrating sentence-level meaning.\n",
        "  - However, in very high layers (like layer 11–12), these representations may reconverge somewhat, reflecting abstract or task-agnostic meaning integration — they encode not only lexical semantics but also sentence-level information."
      ],
      "metadata": {
        "id": "ScrVeiBJSbea"
      }
    },
    {
      "cell_type": "markdown",
      "metadata": {
        "id": "HAPQIcHYoD8E"
      },
      "source": [
        "## Exercise 2: From Static to Contextual Meaning\n",
        "\n",
        "In this exercise, you’ll explore how BERT represents words differently from static embedding models like GloVe.  \n",
        "You’ll first compare **BERT’s input layer** (static-like) to GloVe, and then investigate how **contextual embeddings** evolve across sentences with different meanings of the same word.\n",
        "\n",
        "\n",
        "### 1. Static-like Representations in BERT\n",
        "\n",
        "BERT’s **input layer** (layer 0) contains one fixed vector per token type — much like GloVe — while deeper layers transform these embeddings based on surrounding context.\n",
        "\n",
        "1. Extract the **layer 0 embeddings** for the same set of words used in Part 1:  \n",
        "   *boy, girl, man, woman, king, queen, prince, princess*  \n",
        "2. Compute pairwise distances and visualize the relationships between words.\n",
        "\n",
        "**Think about:**\n",
        "- Do semantically related words (e.g., *king*–*queen*, *man*–*woman*) appear close together?  \n",
        "- How does this “static” space compare to the GloVe space from Part 1?  \n",
        "- What similarities or differences do you notice in the geometry of the embeddings?\n",
        "\n",
        "\n",
        "### 2. Context Shapes Meaning: The Case of *Mouse*\n",
        "\n",
        "Now test how BERT adjusts word meaning depending on context.  \n",
        "Use three sentences where *mouse* refers to different things:\n",
        "\n",
        "- “A computer uses a mouse.”  \n",
        "- “A cat chases a mouse.”  \n",
        "- “The trap caught a mouse.”\n",
        "\n",
        "1. Extract the **top-layer embedding** of the final word *mouse* from each sentence.  \n",
        "2. Project the three *mouse* vectors into a 2-D PCA space and visualize them.\n",
        "\n",
        "**Think about:**\n",
        "- Do the two *animal-related* uses of *mouse* cluster together, separate from the *computer* sense?  \n",
        "- What might this reveal about how **context** and **syntactic role** influence BERT’s representations?  \n",
        "- Which layers do you think best capture **syntactic structure** vs. **semantic category**? (hint: take a look at the reflections above)\n"
      ]
    },
    {
      "cell_type": "markdown",
      "metadata": {
        "id": "FGv1kDTtqNXb"
      },
      "source": [
        "### 2.3 Understanding the RSA Across Layers of BERT\n",
        "\n",
        "Using these distance matrices, we can compare the representational geometry of **different BERT layers** using larger pieces of text. This helps us visualize how the model’s internal representations change from the input embeddings to deeper contextualized layers.\n",
        "\n",
        "**Input text**\n",
        "\n",
        "```text\n",
        "Harry had never believed he would meet a boy he hated more than Dudley, but that was before he met Draco Malfoy.  \n",
        "Still, first-year Gryffindors only had Potions with the Slytherins, so they didn't have to put up with Malfoy much.  \n",
        "Or at least, they didn't until they spotted a notice pinned up in the Gryffindor common room that made them all groan."
      ]
    },
    {
      "cell_type": "code",
      "execution_count": null,
      "metadata": {
        "id": "OX9VYlbMqN_7"
      },
      "outputs": [],
      "source": [
        "# input text for the model\n",
        "text = [\n",
        "    \"Harry had never believed he would meet a boy he hated more than Dudley, but that was before he met Draco Malfoy.\",\n",
        "    \"Still, first-year Gryffindors only had Potions with the Slytherins, so they didn't have to put up with Malfoy much.\",\n",
        "    \"Or at least, they didn't until they spotted a notice pinned up in the Gryffindor common room that made them all groan.\"\n",
        "    ]\n",
        "# get embedding vectors\n",
        "text_vecs = get_vectors(model, tokenizer, text)"
      ]
    },
    {
      "cell_type": "code",
      "execution_count": null,
      "metadata": {
        "id": "uf8xR7xvqPGj",
        "colab": {
          "base_uri": "https://localhost:8080/",
          "height": 649
        },
        "outputId": "39d690a5-2e6c-418a-99a1-bd2dc87de08b"
      },
      "outputs": [
        {
          "output_type": "display_data",
          "data": {
            "text/plain": [
              "<Figure size 1000x600 with 2 Axes>"
            ],
            "image/png": "[encoded data removed]"
          },
          "metadata": {}
        }
      ],
      "source": [
        "# Computing representational distance matrices (RDMs)\n",
        "distance_matrices_cosine = compute_distance_matrices(text_vecs, measure=\"cosine\")\n",
        "# Running RSA between layers\n",
        "# We then calculate the pairwise Pearson correlations (r) between the distance matrices across all layers.\n",
        "rsa_mat_cosine = RSA_matrix(distance_matrices_cosine, method=\"pearson\")\n",
        "# Visualizing the results\n",
        "plot_RSA(rsa_mat_cosine, model_name, dist_method=\"pearson's r\")"
      ]
    },
    {
      "cell_type": "markdown",
      "source": [
        "#### Reflection\n",
        "Read the figure carefully and reflect on\n",
        "- What pattern do you notice along the diagonal of the heatmap?  \n",
        "- How does the similarity between early and late layers change as we move down the network?  \n",
        "- What might it mean that deeper layers become less correlated with the input embedding?  \n"
      ],
      "metadata": {
        "id": "oo-cI81FZ4J7"
      }
    },
    {
      "cell_type": "markdown",
      "metadata": {
        "id": "eToQPW3zuSXE"
      },
      "source": [
        "#### Interpretation & Take-away\n",
        "\n",
        "- High similarity within neighboring layers (dark purple cells near the diagonal):\n",
        "\n",
        "  - Adjacent layers (e.g., Layer 2 vs. Layer 3, or 7 vs. 8) show very high correlation (≈0.9–0.97).\n",
        "\n",
        "  - This means that representations evolve smoothly across layers — the model gradually refines information.\n",
        "\n",
        "- Progressive drift away from input embeddings:\n",
        "\n",
        "  - The correlation between the input embedding and early layers (0.7–0.8) is moderate, but it decreases sharply toward the upper layers (down to ≈0.2–0.3 by layer 12).\n",
        "\n",
        "  - This shows that BERT’s deeper layers capture more abstract, contextualized features that diverge from static input representations.\n"
      ]
    },
    {
      "cell_type": "markdown",
      "source": [
        "## Part 3. Linking Language Models and the Brain\n",
        "\n",
        "In the first two parts of this tutorial, we explored how word representations evolve within language models:\n",
        "- **Part 1:** Static embeddings (e.g., GloVe) — a single meaning per word.\n",
        "- **Part 2:** Contextual embeddings (e.g., BERT) — meaning changes depending on context and deeper model layers.\n",
        "\n",
        "We saw that **deeper layers** in models like BERT capture increasingly **context-dependent** representations.  \n",
        "Now we ask:  \n",
        "> Do these deeper, more contextualized embeddings also become **more brain-like** compared to early, less contextualized embeddings?\n",
        "\n",
        "To address this question, We’ll use **fMRI scans** recorded from one participant reading a chapter from *Harry Potter and the Sorcerer’s Stone* (Wehbe et al., 2014) and further explore the representational similarity analysis."
      ],
      "metadata": {
        "id": "RY6BtmJc-eTu"
      }
    },
    {
      "cell_type": "markdown",
      "metadata": {
        "id": "xA5P2KgNy2l7"
      },
      "source": [
        "### Setup\n",
        "> While the environment is being set up and required files are downloading,  \n",
        "> please continue reading the instructions below.\n"
      ]
    },
    {
      "cell_type": "code",
      "source": [
        "# This might take a few minutes\n",
        "!pip install -q --upgrade pip\n",
        "!pip install -q torch transformers numpy pandas scipy scikit-learn\n",
        "!pip install -q nilearn scprep h5py numba\n",
        "!pip install -q matplotlib seaborn plotly wget\n"
      ],
      "metadata": {
        "id": "HjFPtbKTiEYL"
      },
      "execution_count": null,
      "outputs": []
    },
    {
      "cell_type": "code",
      "source": [
        "# --- Standard Library ---\n",
        "import os\n",
        "import math\n",
        "import copy\n",
        "import itertools\n",
        "from collections import defaultdict\n",
        "\n",
        "# --- Scientific / Numeric ---\n",
        "import numpy as np\n",
        "import pandas as pd\n",
        "import scipy\n",
        "from scipy import stats\n",
        "from scipy.stats import pearsonr  # <-- add this line\n",
        "from scipy.spatial.distance import cosine, euclidean, pdist, squareform, cdist\n",
        "\n",
        "# --- Deep Learning / NLP ---\n",
        "import torch\n",
        "from torch.nn import functional as F\n",
        "import transformers\n",
        "from transformers import AutoModel, AutoTokenizer\n",
        "import spacy\n",
        "from spacy.lang.en import English\n",
        "from nltk.metrics import edit_distance\n",
        "\n",
        "# --- fMRI / Neuroimaging ---\n",
        "import nilearn.signal\n",
        "import scprep\n",
        "import h5py\n",
        "\n",
        "# --- Visualization ---\n",
        "import matplotlib.pyplot as plt\n",
        "import seaborn as sns\n",
        "import plotly.express as px\n",
        "from sklearn.decomposition import PCA\n",
        "\n",
        "# --- Utilities ---\n",
        "import wget\n"
      ],
      "metadata": {
        "id": "RSlHgEui4ntY"
      },
      "execution_count": null,
      "outputs": []
    },
    {
      "cell_type": "code",
      "source": [
        "# check the environment setup\n",
        "print(\"✅ Environment ready\")\n",
        "print(\"Torch:\", torch.__version__)\n",
        "print(\"Transformers:\", transformers.__version__)\n",
        "print(\"nilearn:\", nilearn.__version__)\n",
        "print(\"scprep:\", scprep.__version__)\n",
        "print(\"GPU available:\", torch.cuda.is_available())\n"
      ],
      "metadata": {
        "colab": {
          "base_uri": "https://localhost:8080/"
        },
        "id": "nBcaEf0_4svz",
        "outputId": "ec0a43e3-29cb-45fd-97ca-2b185159c519"
      },
      "execution_count": null,
      "outputs": [
        {
          "output_type": "stream",
          "name": "stdout",
          "text": [
            "✅ Environment ready\n",
            "Torch: 2.8.0+cu126\n",
            "Transformers: 4.57.1\n",
            "nilearn: 0.12.1\n",
            "scprep: 1.1.0\n",
            "GPU available: False\n"
          ]
        }
      ]
    },
    {
      "cell_type": "code",
      "execution_count": null,
      "metadata": {
        "id": "4JTv-7KunNwm"
      },
      "outputs": [],
      "source": [
        "# download fMRI data from a open database (subject 8)\n",
        "subj_raw_file = 'subject_8.mat'\n",
        "if not os.path.exists(subj_raw_file):\n",
        "    url = 'http://www.cs.cmu.edu/~fmri/plosone/files/subject_8.mat'\n",
        "    wget.download(url)"
      ]
    },
    {
      "cell_type": "code",
      "execution_count": null,
      "metadata": {
        "id": "NDDfl3PsmC_B"
      },
      "outputs": [],
      "source": [
        "# download the TR text file\n",
        "tr_texts_file = 'tr_texts.txt'\n",
        "if not os.path.exists(tr_texts_file):\n",
        "  wget.download('https://raw.githubusercontent.com/clclab/ANCM/main/lab2/tr_texts.txt')\n"
      ]
    },
    {
      "cell_type": "markdown",
      "source": [
        "**NB:**\n",
        "you may need to rerun the helper functions in part 2"
      ],
      "metadata": {
        "id": "h98xyq5XCeRk"
      }
    },
    {
      "cell_type": "markdown",
      "source": [
        "### 3.1. Overview: Compare Models to the Brain\n",
        "In this part, we will use **Representational Similarity Analysis (RSA)** to compare model and brain representational spaces.\n",
        "\n",
        "Just as we compared **RDMs (Representational Dissimilarity Matrices)** across BERT layers earlier, we’ll now compute the correlation between:\n",
        "- Model RDMs (from different layers), and  \n",
        "- Brain RDMs (from fMRI recordings).  \n",
        "\n",
        "This allows us to test whether later model layers form representational spaces **more similar to the brain**.\n",
        "\n",
        "\n",
        "**About the fMRI Dataset**\n",
        "\n",
        "We’ll use **fMRI scans** recorded from one participant reading a chapter from  \n",
        "*Harry Potter and the Sorcerer’s Stone* (Wehbe et al., 2014).\n",
        "\n",
        "- **Stimulus presentation:** The text was shown word-by-word using **Rapid Serial Visual Presentation (RSVP)** — each word appeared for **500 ms**.  \n",
        "- **Brain recording:** fMRI scans (3D brain volumes) were collected every **2 seconds (Time of Repetition, TR)**.  \n",
        "  → Each scan thus corresponds roughly to the processing of **4 words**.\n",
        "\n",
        "To align model and brain data:\n",
        "- We’ll **average the embeddings** over every 4 words to create **TR-level embeddings**.  \n",
        "- The code below provides these inputs which are already aligned for you:  \n",
        "  - `tr_texts.txt` — 1295 TR texts (aligned with scans)  \n",
        "  - Corresponding **1295 brain responses** (voxel activity vectors).  \n",
        "\n",
        "- We’ll **shift** brain activity by 4 seconds (2 TRs) to account for the **hemodynamic delay** (the lag between neural activity and the fMRI signal).  \n"
      ],
      "metadata": {
        "id": "z6M06smTcllS"
      }
    },
    {
      "cell_type": "markdown",
      "source": [
        "### 3.2 Extract fMRI brain responses for the selected ROI\n",
        "\n",
        "We extract voxel-wise brain activity corresponding to each TR (2-second scan).\n",
        "\n",
        "**Region of Interest (ROI): Left Anterior Temporal Lobe (LATL)**\n",
        "\n",
        "- We’ll start our analysis using fMRI data from the **Left Anterior Temporal Lobe (LATL)** — a key brain area involved in **semantic processing**.\n",
        "- We define brain regions using the [AAL Single-Subject atlas](https://www.pmod.com/files/download/v36/doc/pneuro/6750.htm)\n",
        "- Later, you can define another selection of ROIs yourself, if you like (run `subj_dict['meta']['ROInumToName']` to see a list of all available ROIs in this dataset."
      ],
      "metadata": {
        "id": "ijp3ar_96xfh"
      }
    },
    {
      "cell_type": "code",
      "execution_count": null,
      "metadata": {
        "colab": {
          "base_uri": "https://localhost:8080/"
        },
        "id": "GQoKotymDZwl",
        "outputId": "7ee74a0f-9317-49a9-aa96-c552c5d067a9"
      },
      "outputs": [
        {
          "output_type": "stream",
          "name": "stderr",
          "text": [
            "/tmp/ipython-input-129829538.py:149: DeprecationWarning:\n",
            "\n",
            "Conversion of an array with ndim > 0 to a scalar is deprecated, and will error in future. Ensure you extract a single element from your array before performing this operation. (Deprecated NumPy 1.25.)\n",
            "\n",
            "/tmp/ipython-input-129829538.py:150: DeprecationWarning:\n",
            "\n",
            "Conversion of an array with ndim > 0 to a scalar is deprecated, and will error in future. Ensure you extract a single element from your array before performing this operation. (Deprecated NumPy 1.25.)\n",
            "\n",
            "/tmp/ipython-input-129829538.py:151: DeprecationWarning:\n",
            "\n",
            "Conversion of an array with ndim > 0 to a scalar is deprecated, and will error in future. Ensure you extract a single element from your array before performing this operation. (Deprecated NumPy 1.25.)\n",
            "\n",
            "/tmp/ipython-input-129829538.py:153: DeprecationWarning:\n",
            "\n",
            "Conversion of an array with ndim > 0 to a scalar is deprecated, and will error in future. Ensure you extract a single element from your array before performing this operation. (Deprecated NumPy 1.25.)\n",
            "\n",
            "/tmp/ipython-input-129829538.py:154: DeprecationWarning:\n",
            "\n",
            "Conversion of an array with ndim > 0 to a scalar is deprecated, and will error in future. Ensure you extract a single element from your array before performing this operation. (Deprecated NumPy 1.25.)\n",
            "\n",
            "/tmp/ipython-input-129829538.py:155: DeprecationWarning:\n",
            "\n",
            "Conversion of an array with ndim > 0 to a scalar is deprecated, and will error in future. Ensure you extract a single element from your array before performing this operation. (Deprecated NumPy 1.25.)\n",
            "\n"
          ]
        }
      ],
      "source": [
        "# load subject fMRI data into python dictionary\n",
        "subj_dict = load_subj_dict(subj_raw_file)\n",
        "\n",
        "# preprocess fMRI signals\n",
        "subj_cleaned_file = 'subject_8_clean.npy'\n",
        "if not os.path.exists(subj_cleaned_file):\n",
        "    # preprocessing parameters\n",
        "    cleaning_params = {\n",
        "        't_r': 2,                 # TR length in seconds\n",
        "        'low_pass': None,         # low-pass filter frequency cutoff (Hz)\n",
        "        'high_pass': 0.005,       # high-pass filter frequency cutoff (Hz)\n",
        "        'standardize': 'zscore',  # standardization method\n",
        "        'detrend': True,          # whether to apply detrending\n",
        "    }\n",
        "\n",
        "    cleaned_subj_dict = copy.copy(subj_dict)\n",
        "    cleaned_subj_dict['data'] = nilearn.signal.clean(subj_dict['data'],\n",
        "                                    runs=subj_dict['time'][:,1],\n",
        "                                    **cleaning_params)\n",
        "    np.save(subj_cleaned_file, cleaned_subj_dict)\n",
        "subj_dict = np.load(subj_cleaned_file, allow_pickle=True).item()"
      ]
    },
    {
      "cell_type": "code",
      "execution_count": null,
      "metadata": {
        "id": "KSxgQdASnTQC"
      },
      "outputs": [],
      "source": [
        "# subregions of left-anterior temporal lobe\n",
        "LATL_ROI = ['Temporal_Sup_L', 'Temporal_Pole_Sup_L',\n",
        "            'Temporal_Mid_L', 'Temporal_Pole_Mid_L', 'Temporal_Inf_L',\n",
        "            'Fusiform_L', 'ParaHippocampal_L']"
      ]
    },
    {
      "cell_type": "code",
      "execution_count": null,
      "metadata": {
        "id": "piln_qtF9G3h",
        "colab": {
          "base_uri": "https://localhost:8080/"
        },
        "outputId": "f7ee64c6-8903-4a77-dc62-25489e6a9537"
      },
      "outputs": [
        {
          "output_type": "stream",
          "name": "stdout",
          "text": [
            "✅ Extracted brain responses for 1295 TRs (4210 voxels in the LATL ROI).\n"
          ]
        }
      ],
      "source": [
        "# get brain responses\n",
        "# The delay=2 parameter aligns the model’s text input with the brain’s hemodynamic response (≈4s later).\n",
        "brain_responses = get_text_response_scans(subj_dict,\n",
        "                                          delay=2,\n",
        "                                          ROI=LATL_ROI) # delay in TRs (1 TR = 2 sec)\n",
        "# Get dimensions of the extracted data\n",
        "n_TRs = len(brain_responses[\"voxel_signals\"])\n",
        "n_voxels = brain_responses[\"voxel_signals\"].shape[1]\n",
        "\n",
        "print(f\"✅ Extracted brain responses for {n_TRs} TRs \"\n",
        "      f\"({n_voxels} voxels in the LATL ROI).\")"
      ]
    },
    {
      "cell_type": "markdown",
      "source": [
        "### 3.3 Extract model emddings from BERT\n",
        "\n",
        "We now compute model representations aligned with the timing of the fMRI data.  Each TR (2 seconds) corresponds to a short text segment from the Harry Potter book chapter.  \n",
        "\n",
        "We will:\n",
        "1. Load and preprocess the TR texts,\n",
        "2. Extract contextualized embeddings for all words using BERT,\n",
        "3. Average the embeddings per TR to match brain scan timing.\n",
        "\n",
        "**Important caveat:**\n",
        "- We concatenate all TR texts into a continuous story and **split into sentences** (spaCy sentencizer). BERT was trained to use **bidirectional context** within a sentence (it is **non-causal**), so this step lets it encode each word with both preceding and following context.\n",
        "- Because BERT is non-causal, some TRs will be modeled with information from **words that appeared slightly later** in the story (e.g., the end of a sentence). This is acceptable for this analysis, but you can try a stricter variant later: feed BERT **only a fixed context window up to each TR** (i.e., a “causalized” approximation) and compare results.\n"
      ],
      "metadata": {
        "id": "-TVZ2aH6NajN"
      }
    },
    {
      "cell_type": "code",
      "execution_count": null,
      "metadata": {
        "id": "f0swHZoKnXzz",
        "colab": {
          "base_uri": "https://localhost:8080/"
        },
        "outputId": "7f5cfbcb-e6b5-4305-98ab-9865a19b9dd3"
      },
      "outputs": [
        {
          "output_type": "stream",
          "name": "stdout",
          "text": [
            "✅ Loaded 1295 TR segments (5176 total words).\n"
          ]
        }
      ],
      "source": [
        "# Load and prepare TR-level text segments (≈4 words)\n",
        "# number of words per TR: this lets us later average model activations to the TR timescale.\n",
        "tr_texts = open(tr_texts_file, 'r').read().splitlines()\n",
        "words_per_tr = [len(tr.split(' ')) for tr in tr_texts] # count words per TR\n",
        "hp_sentences = create_context_sentences(tr_texts) # split text into sentences\n",
        "print(f\"✅ Loaded {len(tr_texts)} TR segments ({sum(words_per_tr)} total words).\")"
      ]
    },
    {
      "cell_type": "code",
      "execution_count": null,
      "metadata": {
        "id": "1SNyaleHndF6",
        "colab": {
          "base_uri": "https://localhost:8080/"
        },
        "outputId": "e131b598-38b6-435a-90c9-6b60a91c6f03"
      },
      "outputs": [
        {
          "output_type": "stream",
          "name": "stdout",
          "text": [
            "✅ Extracted embeddings with shape: (5176, 13, 768) (words × layers × dims)\n",
            "CPU times: user 3min 18s, sys: 864 ms, total: 3min 19s\n",
            "Wall time: 3min 46s\n"
          ]
        }
      ],
      "source": [
        "# Extract contextualized embeddings from BERT\n",
        "# This step computes word-level activation vectors for each layer (13 total).\n",
        "# Note: this may take several minutes.\n",
        "\n",
        "%%time\n",
        "layer_acts_bert = get_layer_activations(model,\n",
        "                      tokenizer,\n",
        "                      hp_sentences)\n",
        "layer_acts_bert = np.concatenate(layer_acts_bert)\n",
        "print(f\"✅ Extracted embeddings with shape: {layer_acts_bert.shape} (words × layers × dims)\")\n"
      ]
    },
    {
      "cell_type": "code",
      "execution_count": null,
      "metadata": {
        "id": "Dwf8l7RKnhQj",
        "colab": {
          "base_uri": "https://localhost:8080/"
        },
        "outputId": "d027e9a6-0ead-4be6-8632-dfecb9d32fe0"
      },
      "outputs": [
        {
          "output_type": "stream",
          "name": "stdout",
          "text": [
            "✅ Created TR embeddings: (1295, 13, 768) (TRs × layers × dims)\n"
          ]
        }
      ],
      "source": [
        "# Average word embeddings within each TR\n",
        "# Each TR covers ~4 words → average to obtain TR-level representations.\n",
        "tr_embeddings_bert = get_tr_embeddings(layer_acts_bert, words_per_tr)\n",
        "print(f\"✅ Created TR embeddings: {tr_embeddings_bert.shape} (TRs × layers × dims)\")\n"
      ]
    },
    {
      "cell_type": "markdown",
      "source": [
        "### 3.4 Compare Model and Brain Representations (RSA)\n",
        "\n",
        "Now that we have activation vectors for each of the 1,295 TRs (one per fMRI scan) and each layer of BERT,  \n",
        "we can compute **Representational Dissimilarity Matrices (RDMs)** for both the model and the brain.\n",
        "\n",
        "- **Model RDMs:** quantify how similar or dissimilar the TR embeddings are to each other, separately for each of the 13 layers.  \n",
        "- **Brain RDM:** captures pairwise dissimilarities between voxel activation patterns across TRs.  \n",
        "- **RSA (Representational Similarity Analysis):** correlates these RDMs layer by layer to measure how well each model layer matches the brain’s representational geometry.\n",
        "\n",
        "**Prediction:** If deeper and more contextualized layers align better with the brain than the earlier layers, we should expect model RDMs of deeper layersm to correlate better with brain RDM.\n"
      ],
      "metadata": {
        "id": "zVuKhtTOUq3N"
      }
    },
    {
      "cell_type": "code",
      "execution_count": null,
      "metadata": {
        "id": "yHhYtD04njMr",
        "colab": {
          "base_uri": "https://localhost:8080/"
        },
        "outputId": "70d6458b-34a2-40af-ca02-046a831a7286"
      },
      "outputs": [
        {
          "output_type": "stream",
          "name": "stdout",
          "text": [
            "✅ Model RDM shape (example layer): (1295, 1295)\n",
            "✅ Brain RDM shape: (1295, 1295)\n"
          ]
        }
      ],
      "source": [
        "# Compute model and brain RDMs\n",
        "# Create one RDM per BERT layer (13 total)\n",
        "RDMs_bert = [vector_distance_matrix(tr_embeddings_bert[:,layer,:],\n",
        "                                   metric=\"cosine\")\n",
        "             for layer in range(tr_embeddings_bert.shape[1])]\n",
        "\n",
        "# Create brain RDM from voxel activity patterns\n",
        "RDM_brain = vector_distance_matrix(brain_responses['voxel_signals'],\n",
        "                                   metric=\"cosine\")\n",
        "\n",
        "print(f\"✅ Model RDM shape (example layer): {RDMs_bert[0].shape}\")\n",
        "print(f\"✅ Brain RDM shape: {RDM_brain.shape}\")"
      ]
    },
    {
      "cell_type": "code",
      "execution_count": null,
      "metadata": {
        "id": "OeEGzaHknmrb"
      },
      "outputs": [],
      "source": [
        "# Compute RSA: correlation between model and brain RDMs\n",
        "# use Pearson’s r to quantify similarity between RDM structures\n",
        "rsa_scores_bert = [compute_rsa_score(RDM_brain,\n",
        "                                     RDMs_bert[layer],\n",
        "                                     score=\"pearsonr\")\n",
        "                   for layer in range(len(RDMs_bert))]"
      ]
    },
    {
      "cell_type": "markdown",
      "metadata": {
        "id": "NRnrxyUmnohb"
      },
      "source": [
        "As we see below, the correlation values themselves are quite low (they might get a bit higher if you provide the model with more context text). But we do observe the expected qualitative pattern: the higher layers with more contextualized embeddings score up to twice as high in representational similarity compared to lower layers."
      ]
    },
    {
      "cell_type": "code",
      "execution_count": null,
      "metadata": {
        "id": "2BZ_SMrSno_M",
        "colab": {
          "base_uri": "https://localhost:8080/",
          "height": 472
        },
        "outputId": "3906d5c7-c8e3-4aed-9a46-99ead21d65b6"
      },
      "outputs": [
        {
          "output_type": "display_data",
          "data": {
            "text/plain": [
              "<Figure size 640x480 with 1 Axes>"
            ],
            "image/png": "[encoded data removed]"
          },
          "metadata": {}
        }
      ],
      "source": [
        "# Plot model–brain representational similarity across layers\n",
        "\n",
        "plt.plot(rsa_scores_bert)\n",
        "plt.xlabel('model layer')\n",
        "plt.xticks(range(len(rsa_scores_bert)))\n",
        "plt.ylabel('similarity score (pearson\\'s r)')\n",
        "plt.title('Model-brain similarity over model layers')\n",
        "plt.show()"
      ]
    },
    {
      "cell_type": "markdown",
      "source": [
        "\n",
        "#### Reflection\n",
        "Read the figure carefully and reflect on:\n",
        "- Which layers in BERT correspond better to human brain activity? Why?  \n",
        "- How might the pattern change if we used a different brain region (e.g., motor cortex)?  \n",
        "- What could explain why overall correlation scores remain small even when the trend is clear?\n"
      ],
      "metadata": {
        "id": "GRnmoGxxXmTP"
      }
    },
    {
      "cell_type": "markdown",
      "source": [
        "#### Interpretation & Take-away\n",
        "- From the figure, we see that **deeper BERT layers show higher similarity to brain activity**, with the strongest correspondence around layers 9–11.  \n",
        "  - This suggests that **later layers capture more abstract and contextualized information**, similar to how higher-level language areas in the brain — such as the **left anterior temporal lobe (LATL)** — integrate words into coherent meanings.  \n",
        "- If we examined a **different brain region**, such as the motor cortex, we would likely see a **different pattern** or even no meaningful increase across layers, since that area is not primarily involved in language comprehension. (_Try it with Exercise 3!_)\n",
        "- Finally, the **low overall correlation values** reflect both the complexity and noise in fMRI data, as well as the fundamental differences between neural and model representations.  \n",
        "  - What matters here is not the absolute value, but the **relative trend** — the gradual alignment between deeper model layers and semantic processing in the human brain.\n",
        "\n",
        "\n"
      ],
      "metadata": {
        "id": "OC9Xg-fiYIO3"
      }
    },
    {
      "cell_type": "markdown",
      "metadata": {
        "id": "7gFYFAYwTAzy"
      },
      "source": [
        "## Exercise 3: Model–Brain Alignment and Control Analyses\n",
        "\n",
        "In this final part, you’ve examined how BERT’s layer-wise embeddings relate to human brain activity recorded during story reading. The RSA results you plotted showed that middle-to-higher model layers often align more closely with fMRI activity in language-related regions, such as the left anterior temporal lobe (LATL).\n",
        "\n",
        "Now it’s time to think critically about what this means — and how we can verify that this relationship truly reflects **linguistic processing**, rather than coincidental patterns or noise.\n",
        "\n",
        "### 1. Evaluate and Extend the Analysis\n",
        "\n",
        "At first glance, the increasing similarity between deeper model layers and brain responses seems to support the idea that contextualized representations in language models mirror contextualized meaning in the brain. But how confident can we be in that interpretation?\n",
        "\n",
        "To validate this claim, let’s introduce a control or baseline comparison — a scenario where you would not expect such alignment.\n",
        "Choose one of the following controls (or try both):\n",
        "** Option 1: Control analysis using a different brain region\n",
        "Use a non-language region as a control (e.g. a visual or motor area) and recompute the RSA scores.\n",
        "** Option 2: Compute a null baseline by Shuffling the brain RDM before RSA to test whether the observed correlations could arise by chance.\n",
        "\n",
        "### 2. Compare and reflect\n",
        "- Visualize your original and control RSA results on the same plot\n",
        "- Take a few minutes to interpret the comparison:\n",
        "  - Do deeper BERT layers still show stronger correlations in the control condition?\n",
        "  - How much lower are the RSA scores for the shuffled or non-language region?\n",
        "  - What does this tell us about the specificity of the model–brain alignment?"
      ]
    },
    {
      "cell_type": "markdown",
      "source": [
        "## Lab Report: Modeling Brain Activity with Your Choice of Language Models\n",
        "\n",
        "For the lab report, you will work in a group and extend the analysis from **Exercise 3** by comparing **language model representations** to **human fMRI responses** recorded during story reading, use your own choice of language models.  \n",
        "\n",
        "Your goal is to test whether (large) language models capture aspects of the neural representations that support human language comprehension.\n",
        "\n",
        "### 1. Choose a language model and extract model representations\n",
        "Select a language model - for example\n",
        "- a state-of-the-art large language model\n",
        "- a model with an architecture inspired by human cognition, or\n",
        "- a variant of BERT that has been modified to operate causally (i.e., processes text only from left to right).\n",
        "\n",
        "Briefly motivate your choice:\n",
        "  - What makes this model interesting or relevant for studying human language processing?  \n",
        "  - Is it more interpretable, more biologically plausible, or more powerful than models we’ve seen before?\n",
        "\n",
        "_To simplify the analysis, you can choose one of the hiddern layers to compute your model embeddings._\n",
        "\n",
        "### 3. Compare Model and Brain Representations\n",
        "Compute **representational similarity** between your chosen model’s embeddings and fMRI data.  \n",
        "Use the RSA approach you implemented before, comparing model RDMs to brain RDMs.\n",
        "\n",
        "Extend this analysis from a single subject to the **group level**:\n",
        "- Compute RSA for each of the 8 available participants from the open dataset (http://www.cs.cmu.edu/~fmri/plosone/files/).  \n",
        "- Combine results across participants (e.g., by averaging similarity scores).\n",
        "\n",
        "**NB:** if you do not know how to run a group RSA analysis, see the method note below.\n",
        "\n",
        "### 4. Compute a Noise Ceiling\n",
        "Estimate a **noise ceiling** to understand the maximum achievable alignment given the noise in fMRI data.  \n",
        "The noise ceiling represents the upper bound on how well any model could predict brain responses, given inter-subject variability.\n",
        "\n",
        "Explain briefly:\n",
        "- How you estimated the noise ceiling (e.g., by measuring similarity between participants’ brain RDMs).  \n",
        "- Why it is important for interpreting your results.  \n",
        "- How your model’s alignment compares to this upper bound.\n",
        "\n",
        "**NB:** if you do not know how to compute a noise ceiling, see the method note below.\n",
        "\n",
        "\n",
        "### 5. Visualize and Interpret\n",
        "Create clear, informative figures that illustrate your main findings, such as:\n",
        "- RSA curves for each model layer (if you choose to use all layers).\n",
        "- Group-level similarity scores  \n",
        "- A reference line showing the noise ceiling.\n",
        "- Comparison between brain regions.  \n",
        "\n",
        "**NB:** Normally, you will also perform some statistical testing to facilitate your interpretation of results. However, you can omit it here in this lab report, because (1) the total number of participants is still relatively small; (2) it is not a stats course after all ;)\n",
        "\n",
        "Then, interpret your findings in context:\n",
        "- Does your model outperform BERT or other baselines?  \n",
        "- How close do your results come to the noise ceiling?  \n",
        "- What might your findings suggest about how this model represents meaning?\n",
        "\n",
        "\n",
        "### 6. Write Your Lab Report\n",
        "Work together to produce a concise lab report that summarizes your analysis and findings.  \n",
        "Your report should include:\n",
        "\n",
        "1. **Introduction** – What is the goal of your analysis? Which model did you choose, and why?  \n",
        "2. **Methods** – Briefly describe your data, model representations, and analysis steps. Include a link to the codes you used, and describe briefly how your code works.  \n",
        "3. **Results** – Present your RSA plots, group results with noise ceiling, and summarize your key findings.  \n",
        "4. **Discussion** – Interpret your results and mention possible limitations.  \n"
      ],
      "metadata": {
        "id": "zCM5T3z3coy-"
      }
    },
    {
      "cell_type": "markdown",
      "source": [
        "### Method Note: How to Run a Group-Level RSA Analysis  \n",
        "\n",
        "When we test model–brain similarity for a single subject, we learn how *that individual’s* brain represents language.  \n",
        "However, to make claims about **human language processing in general**, we need to verify that the same pattern holds **across participants**.  \n",
        "\n",
        "\n",
        "**Why group analysis matters**\n",
        "- Individual brains differ in many aspects.  \n",
        "- Averaging across participants reduces noise and highlights consistent trends.  \n",
        "- Group analysis lets us apply **inferential statistics**, allowing for scientifically interpretable conclusions.  \n",
        "\n",
        "**Steps for group RSA**\n",
        "1. Compute RSA per subject\n",
        "   - Extract brain RDMs within the target ROI (e.g., LATL).  \n",
        "   - Compute model RDMs (from a specified layer, or across layers)  \n",
        "   - Correlate model RDM with the subject’s brain RDM.  \n",
        "\n",
        "2. Aggregate across subjects  \n",
        "   - compute the **mean** RSA across subjects.  \n",
        "\n",
        "3. Visualize group results  \n",
        "    - Use a boxplot or strip plot (each dot = one subject).\n",
        "    - Overlay the noise ceiling\n",
        "\n",
        "4. Optional: Statistical testing\n",
        "  - You can test whether your results are **statistically significant** using one of the following approaches:\n",
        "    - **One-sided t-test against 0**: Tests if model–brain similarity is greater than chance.(\"Does this model layer capture any reliable structure present in the brain across subjects?\")\n",
        "    - **Paired t-test between ROIs**: Compares two brain regions (e.g., LATL vs. visual cortex). (“Is similarity higher in language regions than control regions?”\n",
        "    - **Permutation test**: Compares against a shuffled or randomized baseline.(more robust than the one-side t-test against 0)\n",
        "\n",
        "\n"
      ],
      "metadata": {
        "id": "NVQcGpm-hMbc"
      }
    },
    {
      "cell_type": "markdown",
      "source": [
        "### Method Note: How to compute noise ceilings\n",
        "\n",
        "When comparing model representations with brain data, it’s important to know **how high a correlation we could ever expect** — given the measurement noise and individual variability in fMRI.  \n",
        "This upper bound is called the **noise ceiling**.\n",
        "\n",
        "Without it, an RSA score (e.g., *r* = 0.02) can be misleading — it may look small, but if the best possible correlation within the data is *r* = 0.05, the model actually explains about 40% of the explainable variance.  \n",
        "\n",
        "\n",
        "**What the Noise Ceiling Represents**\n",
        "- The noise ceiling estimates the **maximum achievable similarity** between any perfect model and the brain data.  \n",
        "- It reflects the **reliability** of the neural responses themselves — how consistent representational geometries are across participants.  \n",
        "- A higher noise ceiling means participants share similar brain patterns; a lower one indicates more noise or subject variability.  \n",
        "\n",
        "\n",
        "**The Leave-One-Out (LOO) Approach**  \n",
        "\n",
        "This method estimates how similar each participant’s brain representational geometry is to that of the group.\n",
        "\n",
        "1. **Compute each subject’s brain RDM** (within your ROI).   \n",
        "\n",
        "2. **Leave one subject out** and average the RDMs of the remaining participants to form a *group-average RDM*.  \n",
        "\n",
        "3. **Correlate the held-out subject’s RDM** with the group-average RDM (using the same measure, e.g., Pearson’s *r*).  \n",
        "\n",
        "4. **Repeat for all subjects.**  \n",
        "   This gives one correlation per participant:  \n",
        "   *noise_ceiling[i] = corr(RDM_subject[i], mean(RDM_others))*  \n",
        "\n",
        "5. **Take the average** of these values as the estimated **noise ceiling** for your ROI.  \n",
        "\n",
        "\n",
        "**Interpreting the Noise Ceiling**  \n",
        "\n",
        "- The noise ceiling defines the **maximum representational similarity** that any model could reach for your data.  \n",
        "- If your model–brain RSA approaches the noise ceiling, the model captures most of the reliable signal.  \n",
        "- If it falls far below, the model only explains a small fraction of the variance that is theoretically predictable.  \n",
        "\n",
        "You can visualize it as a **horizontal line* on your group RSA plot to show how close the model comes to the data’s reliability limit.  \n",
        "\n"
      ],
      "metadata": {
        "id": "JAjUsIQS94cv"
      }
    }
  ],
  "metadata": {
    "colab": {
      "provenance": [],
      "toc_visible": true,
      "include_colab_link": true
    },
    "kernelspec": {
      "display_name": "Python 3.7.6 64-bit ('3.7.6')",
      "language": "python",
      "name": "python3"
    },
    "language_info": {
      "name": "python",
      "version": "3.7.6"
    },
    "vscode": {
      "interpreter": {
        "hash": "e9865b8fc30c7210bbbe2c0b0464dbc9700000eff1f4e229588b0a8358506f7f"
      }
    },
    "widgets": {
      "application/vnd.jupyter.widget-state+json": {
        "44ee6fc3a19c4c45840c59552233b155": {
          "model_module": "@jupyter-widgets/controls",
          "model_name": "HBoxModel",
          "model_module_version": "1.5.0",
          "state": {
            "_dom_classes": [],
            "_model_module": "@jupyter-widgets/controls",
            "_model_module_version": "1.5.0",
            "_model_name": "HBoxModel",
            "_view_count": null,
            "_view_module": "@jupyter-widgets/controls",
            "_view_module_version": "1.5.0",
            "_view_name": "HBoxView",
            "box_style": "",
            "children": [
              "IPY_MODEL_6cfb70100555458fb31fa40bc99a0f67",
              "IPY_MODEL_e827430677774b6f97053295f3301db1",
              "IPY_MODEL_024200de4b054d25ba679cdf5345c954"
            ],
            "layout": "IPY_MODEL_26a88452dc4349948a765be1e021faa4"
          }
        },
        "6cfb70100555458fb31fa40bc99a0f67": {
          "model_module": "@jupyter-widgets/controls",
          "model_name": "HTMLModel",
          "model_module_version": "1.5.0",
          "state": {
            "_dom_classes": [],
            "_model_module": "@jupyter-widgets/controls",
            "_model_module_version": "1.5.0",
            "_model_name": "HTMLModel",
            "_view_count": null,
            "_view_module": "@jupyter-widgets/controls",
            "_view_module_version": "1.5.0",
            "_view_name": "HTMLView",
            "description": "",
            "description_tooltip": null,
            "layout": "IPY_MODEL_8a6d2e735202470a9df4eb8df1b892b4",
            "placeholder": "​",
            "style": "IPY_MODEL_9ded15a7e90e4d8080b20752f5efe1cc",
            "value": "tokenizer_config.json: 100%"
          }
        },
        "e827430677774b6f97053295f3301db1": {
          "model_module": "@jupyter-widgets/controls",
          "model_name": "FloatProgressModel",
          "model_module_version": "1.5.0",
          "state": {
            "_dom_classes": [],
            "_model_module": "@jupyter-widgets/controls",
            "_model_module_version": "1.5.0",
            "_model_name": "FloatProgressModel",
            "_view_count": null,
            "_view_module": "@jupyter-widgets/controls",
            "_view_module_version": "1.5.0",
            "_view_name": "ProgressView",
            "bar_style": "success",
            "description": "",
            "description_tooltip": null,
            "layout": "IPY_MODEL_6e5fa7545a4d4c1788efba50f3000d5c",
            "max": 48,
            "min": 0,
            "orientation": "horizontal",
            "style": "IPY_MODEL_afa16191ec2d4fe4b7286bc2fa901015",
            "value": 48
          }
        },
        "024200de4b054d25ba679cdf5345c954": {
          "model_module": "@jupyter-widgets/controls",
          "model_name": "HTMLModel",
          "model_module_version": "1.5.0",
          "state": {
            "_dom_classes": [],
            "_model_module": "@jupyter-widgets/controls",
            "_model_module_version": "1.5.0",
            "_model_name": "HTMLModel",
            "_view_count": null,
            "_view_module": "@jupyter-widgets/controls",
            "_view_module_version": "1.5.0",
            "_view_name": "HTMLView",
            "description": "",
            "description_tooltip": null,
            "layout": "IPY_MODEL_f0ba9f3108244259ab92bad2e1bab47d",
            "placeholder": "​",
            "style": "IPY_MODEL_df46773bb66f47bd9be044c9c92a1c8e",
            "value": " 48.0/48.0 [00:00&lt;00:00, 593B/s]"
          }
        },
        "26a88452dc4349948a765be1e021faa4": {
          "model_module": "@jupyter-widgets/base",
          "model_name": "LayoutModel",
          "model_module_version": "1.2.0",
          "state": {
            "_model_module": "@jupyter-widgets/base",
            "_model_module_version": "1.2.0",
            "_model_name": "LayoutModel",
            "_view_count": null,
            "_view_module": "@jupyter-widgets/base",
            "_view_module_version": "1.2.0",
            "_view_name": "LayoutView",
            "align_content": null,
            "align_items": null,
            "align_self": null,
            "border": null,
            "bottom": null,
            "display": null,
            "flex": null,
            "flex_flow": null,
            "grid_area": null,
            "grid_auto_columns": null,
            "grid_auto_flow": null,
            "grid_auto_rows": null,
            "grid_column": null,
            "grid_gap": null,
            "grid_row": null,
            "grid_template_areas": null,
            "grid_template_columns": null,
            "grid_template_rows": null,
            "height": null,
            "justify_content": null,
            "justify_items": null,
            "left": null,
            "margin": null,
            "max_height": null,
            "max_width": null,
            "min_height": null,
            "min_width": null,
            "object_fit": null,
            "object_position": null,
            "order": null,
            "overflow": null,
            "overflow_x": null,
            "overflow_y": null,
            "padding": null,
            "right": null,
            "top": null,
            "visibility": null,
            "width": null
          }
        },
        "8a6d2e735202470a9df4eb8df1b892b4": {
          "model_module": "@jupyter-widgets/base",
          "model_name": "LayoutModel",
          "model_module_version": "1.2.0",
          "state": {
            "_model_module": "@jupyter-widgets/base",
            "_model_module_version": "1.2.0",
            "_model_name": "LayoutModel",
            "_view_count": null,
            "_view_module": "@jupyter-widgets/base",
            "_view_module_version": "1.2.0",
            "_view_name": "LayoutView",
            "align_content": null,
            "align_items": null,
            "align_self": null,
            "border": null,
            "bottom": null,
            "display": null,
            "flex": null,
            "flex_flow": null,
            "grid_area": null,
            "grid_auto_columns": null,
            "grid_auto_flow": null,
            "grid_auto_rows": null,
            "grid_column": null,
            "grid_gap": null,
            "grid_row": null,
            "grid_template_areas": null,
            "grid_template_columns": null,
            "grid_template_rows": null,
            "height": null,
            "justify_content": null,
            "justify_items": null,
            "left": null,
            "margin": null,
            "max_height": null,
            "max_width": null,
            "min_height": null,
            "min_width": null,
            "object_fit": null,
            "object_position": null,
            "order": null,
            "overflow": null,
            "overflow_x": null,
            "overflow_y": null,
            "padding": null,
            "right": null,
            "top": null,
            "visibility": null,
            "width": null
          }
        },
        "9ded15a7e90e4d8080b20752f5efe1cc": {
          "model_module": "@jupyter-widgets/controls",
          "model_name": "DescriptionStyleModel",
          "model_module_version": "1.5.0",
          "state": {
            "_model_module": "@jupyter-widgets/controls",
            "_model_module_version": "1.5.0",
            "_model_name": "DescriptionStyleModel",
            "_view_count": null,
            "_view_module": "@jupyter-widgets/base",
            "_view_module_version": "1.2.0",
            "_view_name": "StyleView",
            "description_width": ""
          }
        },
        "6e5fa7545a4d4c1788efba50f3000d5c": {
          "model_module": "@jupyter-widgets/base",
          "model_name": "LayoutModel",
          "model_module_version": "1.2.0",
          "state": {
            "_model_module": "@jupyter-widgets/base",
            "_model_module_version": "1.2.0",
            "_model_name": "LayoutModel",
            "_view_count": null,
            "_view_module": "@jupyter-widgets/base",
            "_view_module_version": "1.2.0",
            "_view_name": "LayoutView",
            "align_content": null,
            "align_items": null,
            "align_self": null,
            "border": null,
            "bottom": null,
            "display": null,
            "flex": null,
            "flex_flow": null,
            "grid_area": null,
            "grid_auto_columns": null,
            "grid_auto_flow": null,
            "grid_auto_rows": null,
            "grid_column": null,
            "grid_gap": null,
            "grid_row": null,
            "grid_template_areas": null,
            "grid_template_columns": null,
            "grid_template_rows": null,
            "height": null,
            "justify_content": null,
            "justify_items": null,
            "left": null,
            "margin": null,
            "max_height": null,
            "max_width": null,
            "min_height": null,
            "min_width": null,
            "object_fit": null,
            "object_position": null,
            "order": null,
            "overflow": null,
            "overflow_x": null,
            "overflow_y": null,
            "padding": null,
            "right": null,
            "top": null,
            "visibility": null,
            "width": null
          }
        },
        "afa16191ec2d4fe4b7286bc2fa901015": {
          "model_module": "@jupyter-widgets/controls",
          "model_name": "ProgressStyleModel",
          "model_module_version": "1.5.0",
          "state": {
            "_model_module": "@jupyter-widgets/controls",
            "_model_module_version": "1.5.0",
            "_model_name": "ProgressStyleModel",
            "_view_count": null,
            "_view_module": "@jupyter-widgets/base",
            "_view_module_version": "1.2.0",
            "_view_name": "StyleView",
            "bar_color": null,
            "description_width": ""
          }
        },
        "f0ba9f3108244259ab92bad2e1bab47d": {
          "model_module": "@jupyter-widgets/base",
          "model_name": "LayoutModel",
          "model_module_version": "1.2.0",
          "state": {
            "_model_module": "@jupyter-widgets/base",
            "_model_module_version": "1.2.0",
            "_model_name": "LayoutModel",
            "_view_count": null,
            "_view_module": "@jupyter-widgets/base",
            "_view_module_version": "1.2.0",
            "_view_name": "LayoutView",
            "align_content": null,
            "align_items": null,
            "align_self": null,
            "border": null,
            "bottom": null,
            "display": null,
            "flex": null,
            "flex_flow": null,
            "grid_area": null,
            "grid_auto_columns": null,
            "grid_auto_flow": null,
            "grid_auto_rows": null,
            "grid_column": null,
            "grid_gap": null,
            "grid_row": null,
            "grid_template_areas": null,
            "grid_template_columns": null,
            "grid_template_rows": null,
            "height": null,
            "justify_content": null,
            "justify_items": null,
            "left": null,
            "margin": null,
            "max_height": null,
            "max_width": null,
            "min_height": null,
            "min_width": null,
            "object_fit": null,
            "object_position": null,
            "order": null,
            "overflow": null,
            "overflow_x": null,
            "overflow_y": null,
            "padding": null,
            "right": null,
            "top": null,
            "visibility": null,
            "width": null
          }
        },
        "df46773bb66f47bd9be044c9c92a1c8e": {
          "model_module": "@jupyter-widgets/controls",
          "model_name": "DescriptionStyleModel",
          "model_module_version": "1.5.0",
          "state": {
            "_model_module": "@jupyter-widgets/controls",
            "_model_module_version": "1.5.0",
            "_model_name": "DescriptionStyleModel",
            "_view_count": null,
            "_view_module": "@jupyter-widgets/base",
            "_view_module_version": "1.2.0",
            "_view_name": "StyleView",
            "description_width": ""
          }
        },
        "624079758b0049f1b1b131052c30da06": {
          "model_module": "@jupyter-widgets/controls",
          "model_name": "HBoxModel",
          "model_module_version": "1.5.0",
          "state": {
            "_dom_classes": [],
            "_model_module": "@jupyter-widgets/controls",
            "_model_module_version": "1.5.0",
            "_model_name": "HBoxModel",
            "_view_count": null,
            "_view_module": "@jupyter-widgets/controls",
            "_view_module_version": "1.5.0",
            "_view_name": "HBoxView",
            "box_style": "",
            "children": [
              "IPY_MODEL_1b19cefe7d0440ab83c949cc102678ae",
              "IPY_MODEL_5edabc1fd02a428fa1b48caf3abc816e",
              "IPY_MODEL_ec5c4f03364a4ad186111c322c2155ed"
            ],
            "layout": "IPY_MODEL_73ae3f699e2744d9b8fe045f3e9529fc"
          }
        },
        "1b19cefe7d0440ab83c949cc102678ae": {
          "model_module": "@jupyter-widgets/controls",
          "model_name": "HTMLModel",
          "model_module_version": "1.5.0",
          "state": {
            "_dom_classes": [],
            "_model_module": "@jupyter-widgets/controls",
            "_model_module_version": "1.5.0",
            "_model_name": "HTMLModel",
            "_view_count": null,
            "_view_module": "@jupyter-widgets/controls",
            "_view_module_version": "1.5.0",
            "_view_name": "HTMLView",
            "description": "",
            "description_tooltip": null,
            "layout": "IPY_MODEL_42f6256d45dd4d1e97756766176d3362",
            "placeholder": "​",
            "style": "IPY_MODEL_25305cc5c5884b7c9f85231fc62f4ec7",
            "value": "config.json: 100%"
          }
        },
        "5edabc1fd02a428fa1b48caf3abc816e": {
          "model_module": "@jupyter-widgets/controls",
          "model_name": "FloatProgressModel",
          "model_module_version": "1.5.0",
          "state": {
            "_dom_classes": [],
            "_model_module": "@jupyter-widgets/controls",
            "_model_module_version": "1.5.0",
            "_model_name": "FloatProgressModel",
            "_view_count": null,
            "_view_module": "@jupyter-widgets/controls",
            "_view_module_version": "1.5.0",
            "_view_name": "ProgressView",
            "bar_style": "success",
            "description": "",
            "description_tooltip": null,
            "layout": "IPY_MODEL_856c9739ffc04925a522830eec7b7e6b",
            "max": 570,
            "min": 0,
            "orientation": "horizontal",
            "style": "IPY_MODEL_8a53b1d110c2437e97a596c824b53298",
            "value": 570
          }
        },
        "ec5c4f03364a4ad186111c322c2155ed": {
          "model_module": "@jupyter-widgets/controls",
          "model_name": "HTMLModel",
          "model_module_version": "1.5.0",
          "state": {
            "_dom_classes": [],
            "_model_module": "@jupyter-widgets/controls",
            "_model_module_version": "1.5.0",
            "_model_name": "HTMLModel",
            "_view_count": null,
            "_view_module": "@jupyter-widgets/controls",
            "_view_module_version": "1.5.0",
            "_view_name": "HTMLView",
            "description": "",
            "description_tooltip": null,
            "layout": "IPY_MODEL_8034371baecb4fda978e3854de8644ab",
            "placeholder": "​",
            "style": "IPY_MODEL_f9c459af4cbf4af795f32fa5d89dccd9",
            "value": " 570/570 [00:00&lt;00:00, 17.0kB/s]"
          }
        },
        "73ae3f699e2744d9b8fe045f3e9529fc": {
          "model_module": "@jupyter-widgets/base",
          "model_name": "LayoutModel",
          "model_module_version": "1.2.0",
          "state": {
            "_model_module": "@jupyter-widgets/base",
            "_model_module_version": "1.2.0",
            "_model_name": "LayoutModel",
            "_view_count": null,
            "_view_module": "@jupyter-widgets/base",
            "_view_module_version": "1.2.0",
            "_view_name": "LayoutView",
            "align_content": null,
            "align_items": null,
            "align_self": null,
            "border": null,
            "bottom": null,
            "display": null,
            "flex": null,
            "flex_flow": null,
            "grid_area": null,
            "grid_auto_columns": null,
            "grid_auto_flow": null,
            "grid_auto_rows": null,
            "grid_column": null,
            "grid_gap": null,
            "grid_row": null,
            "grid_template_areas": null,
            "grid_template_columns": null,
            "grid_template_rows": null,
            "height": null,
            "justify_content": null,
            "justify_items": null,
            "left": null,
            "margin": null,
            "max_height": null,
            "max_width": null,
            "min_height": null,
            "min_width": null,
            "object_fit": null,
            "object_position": null,
            "order": null,
            "overflow": null,
            "overflow_x": null,
            "overflow_y": null,
            "padding": null,
            "right": null,
            "top": null,
            "visibility": null,
            "width": null
          }
        },
        "42f6256d45dd4d1e97756766176d3362": {
          "model_module": "@jupyter-widgets/base",
          "model_name": "LayoutModel",
          "model_module_version": "1.2.0",
          "state": {
            "_model_module": "@jupyter-widgets/base",
            "_model_module_version": "1.2.0",
            "_model_name": "LayoutModel",
            "_view_count": null,
            "_view_module": "@jupyter-widgets/base",
            "_view_module_version": "1.2.0",
            "_view_name": "LayoutView",
            "align_content": null,
            "align_items": null,
            "align_self": null,
            "border": null,
            "bottom": null,
            "display": null,
            "flex": null,
            "flex_flow": null,
            "grid_area": null,
            "grid_auto_columns": null,
            "grid_auto_flow": null,
            "grid_auto_rows": null,
            "grid_column": null,
            "grid_gap": null,
            "grid_row": null,
            "grid_template_areas": null,
            "grid_template_columns": null,
            "grid_template_rows": null,
            "height": null,
            "justify_content": null,
            "justify_items": null,
            "left": null,
            "margin": null,
            "max_height": null,
            "max_width": null,
            "min_height": null,
            "min_width": null,
            "object_fit": null,
            "object_position": null,
            "order": null,
            "overflow": null,
            "overflow_x": null,
            "overflow_y": null,
            "padding": null,
            "right": null,
            "top": null,
            "visibility": null,
            "width": null
          }
        },
        "25305cc5c5884b7c9f85231fc62f4ec7": {
          "model_module": "@jupyter-widgets/controls",
          "model_name": "DescriptionStyleModel",
          "model_module_version": "1.5.0",
          "state": {
            "_model_module": "@jupyter-widgets/controls",
            "_model_module_version": "1.5.0",
            "_model_name": "DescriptionStyleModel",
            "_view_count": null,
            "_view_module": "@jupyter-widgets/base",
            "_view_module_version": "1.2.0",
            "_view_name": "StyleView",
            "description_width": ""
          }
        },
        "856c9739ffc04925a522830eec7b7e6b": {
          "model_module": "@jupyter-widgets/base",
          "model_name": "LayoutModel",
          "model_module_version": "1.2.0",
          "state": {
            "_model_module": "@jupyter-widgets/base",
            "_model_module_version": "1.2.0",
            "_model_name": "LayoutModel",
            "_view_count": null,
            "_view_module": "@jupyter-widgets/base",
            "_view_module_version": "1.2.0",
            "_view_name": "LayoutView",
            "align_content": null,
            "align_items": null,
            "align_self": null,
            "border": null,
            "bottom": null,
            "display": null,
            "flex": null,
            "flex_flow": null,
            "grid_area": null,
            "grid_auto_columns": null,
            "grid_auto_flow": null,
            "grid_auto_rows": null,
            "grid_column": null,
            "grid_gap": null,
            "grid_row": null,
            "grid_template_areas": null,
            "grid_template_columns": null,
            "grid_template_rows": null,
            "height": null,
            "justify_content": null,
            "justify_items": null,
            "left": null,
            "margin": null,
            "max_height": null,
            "max_width": null,
            "min_height": null,
            "min_width": null,
            "object_fit": null,
            "object_position": null,
            "order": null,
            "overflow": null,
            "overflow_x": null,
            "overflow_y": null,
            "padding": null,
            "right": null,
            "top": null,
            "visibility": null,
            "width": null
          }
        },
        "8a53b1d110c2437e97a596c824b53298": {
          "model_module": "@jupyter-widgets/controls",
          "model_name": "ProgressStyleModel",
          "model_module_version": "1.5.0",
          "state": {
            "_model_module": "@jupyter-widgets/controls",
            "_model_module_version": "1.5.0",
            "_model_name": "ProgressStyleModel",
            "_view_count": null,
            "_view_module": "@jupyter-widgets/base",
            "_view_module_version": "1.2.0",
            "_view_name": "StyleView",
            "bar_color": null,
            "description_width": ""
          }
        },
        "8034371baecb4fda978e3854de8644ab": {
          "model_module": "@jupyter-widgets/base",
          "model_name": "LayoutModel",
          "model_module_version": "1.2.0",
          "state": {
            "_model_module": "@jupyter-widgets/base",
            "_model_module_version": "1.2.0",
            "_model_name": "LayoutModel",
            "_view_count": null,
            "_view_module": "@jupyter-widgets/base",
            "_view_module_version": "1.2.0",
            "_view_name": "LayoutView",
            "align_content": null,
            "align_items": null,
            "align_self": null,
            "border": null,
            "bottom": null,
            "display": null,
            "flex": null,
            "flex_flow": null,
            "grid_area": null,
            "grid_auto_columns": null,
            "grid_auto_flow": null,
            "grid_auto_rows": null,
            "grid_column": null,
            "grid_gap": null,
            "grid_row": null,
            "grid_template_areas": null,
            "grid_template_columns": null,
            "grid_template_rows": null,
            "height": null,
            "justify_content": null,
            "justify_items": null,
            "left": null,
            "margin": null,
            "max_height": null,
            "max_width": null,
            "min_height": null,
            "min_width": null,
            "object_fit": null,
            "object_position": null,
            "order": null,
            "overflow": null,
            "overflow_x": null,
            "overflow_y": null,
            "padding": null,
            "right": null,
            "top": null,
            "visibility": null,
            "width": null
          }
        },
        "f9c459af4cbf4af795f32fa5d89dccd9": {
          "model_module": "@jupyter-widgets/controls",
          "model_name": "DescriptionStyleModel",
          "model_module_version": "1.5.0",
          "state": {
            "_model_module": "@jupyter-widgets/controls",
            "_model_module_version": "1.5.0",
            "_model_name": "DescriptionStyleModel",
            "_view_count": null,
            "_view_module": "@jupyter-widgets/base",
            "_view_module_version": "1.2.0",
            "_view_name": "StyleView",
            "description_width": ""
          }
        },
        "3c735669c99f4311a71b17436198021a": {
          "model_module": "@jupyter-widgets/controls",
          "model_name": "HBoxModel",
          "model_module_version": "1.5.0",
          "state": {
            "_dom_classes": [],
            "_model_module": "@jupyter-widgets/controls",
            "_model_module_version": "1.5.0",
            "_model_name": "HBoxModel",
            "_view_count": null,
            "_view_module": "@jupyter-widgets/controls",
            "_view_module_version": "1.5.0",
            "_view_name": "HBoxView",
            "box_style": "",
            "children": [
              "IPY_MODEL_aff4c0e6651241b8bfc438d50dedcecb",
              "IPY_MODEL_9b47f74418b4459fb4c37b4d0ae9576a",
              "IPY_MODEL_216bdc4d8341405f91bfd1a71cfc3566"
            ],
            "layout": "IPY_MODEL_2b24619f72354d469c71925971e21605"
          }
        },
        "aff4c0e6651241b8bfc438d50dedcecb": {
          "model_module": "@jupyter-widgets/controls",
          "model_name": "HTMLModel",
          "model_module_version": "1.5.0",
          "state": {
            "_dom_classes": [],
            "_model_module": "@jupyter-widgets/controls",
            "_model_module_version": "1.5.0",
            "_model_name": "HTMLModel",
            "_view_count": null,
            "_view_module": "@jupyter-widgets/controls",
            "_view_module_version": "1.5.0",
            "_view_name": "HTMLView",
            "description": "",
            "description_tooltip": null,
            "layout": "IPY_MODEL_1939f4f48d68465294bf0155f7b1d995",
            "placeholder": "​",
            "style": "IPY_MODEL_233465f344a0495f89a43edffe0108a3",
            "value": "vocab.txt: 100%"
          }
        },
        "9b47f74418b4459fb4c37b4d0ae9576a": {
          "model_module": "@jupyter-widgets/controls",
          "model_name": "FloatProgressModel",
          "model_module_version": "1.5.0",
          "state": {
            "_dom_classes": [],
            "_model_module": "@jupyter-widgets/controls",
            "_model_module_version": "1.5.0",
            "_model_name": "FloatProgressModel",
            "_view_count": null,
            "_view_module": "@jupyter-widgets/controls",
            "_view_module_version": "1.5.0",
            "_view_name": "ProgressView",
            "bar_style": "success",
            "description": "",
            "description_tooltip": null,
            "layout": "IPY_MODEL_ca89771a087d4a25bdc93a2f05384957",
            "max": 231508,
            "min": 0,
            "orientation": "horizontal",
            "style": "IPY_MODEL_3423e396c4b9436ab8c65398467dd11d",
            "value": 231508
          }
        },
        "216bdc4d8341405f91bfd1a71cfc3566": {
          "model_module": "@jupyter-widgets/controls",
          "model_name": "HTMLModel",
          "model_module_version": "1.5.0",
          "state": {
            "_dom_classes": [],
            "_model_module": "@jupyter-widgets/controls",
            "_model_module_version": "1.5.0",
            "_model_name": "HTMLModel",
            "_view_count": null,
            "_view_module": "@jupyter-widgets/controls",
            "_view_module_version": "1.5.0",
            "_view_name": "HTMLView",
            "description": "",
            "description_tooltip": null,
            "layout": "IPY_MODEL_eac16606e2234105ae7aff056f9629dd",
            "placeholder": "​",
            "style": "IPY_MODEL_2fd4da5ac7fd453aab6039978b4c6a76",
            "value": " 232k/232k [00:00&lt;00:00, 1.58MB/s]"
          }
        },
        "2b24619f72354d469c71925971e21605": {
          "model_module": "@jupyter-widgets/base",
          "model_name": "LayoutModel",
          "model_module_version": "1.2.0",
          "state": {
            "_model_module": "@jupyter-widgets/base",
            "_model_module_version": "1.2.0",
            "_model_name": "LayoutModel",
            "_view_count": null,
            "_view_module": "@jupyter-widgets/base",
            "_view_module_version": "1.2.0",
            "_view_name": "LayoutView",
            "align_content": null,
            "align_items": null,
            "align_self": null,
            "border": null,
            "bottom": null,
            "display": null,
            "flex": null,
            "flex_flow": null,
            "grid_area": null,
            "grid_auto_columns": null,
            "grid_auto_flow": null,
            "grid_auto_rows": null,
            "grid_column": null,
            "grid_gap": null,
            "grid_row": null,
            "grid_template_areas": null,
            "grid_template_columns": null,
            "grid_template_rows": null,
            "height": null,
            "justify_content": null,
            "justify_items": null,
            "left": null,
            "margin": null,
            "max_height": null,
            "max_width": null,
            "min_height": null,
            "min_width": null,
            "object_fit": null,
            "object_position": null,
            "order": null,
            "overflow": null,
            "overflow_x": null,
            "overflow_y": null,
            "padding": null,
            "right": null,
            "top": null,
            "visibility": null,
            "width": null
          }
        },
        "1939f4f48d68465294bf0155f7b1d995": {
          "model_module": "@jupyter-widgets/base",
          "model_name": "LayoutModel",
          "model_module_version": "1.2.0",
          "state": {
            "_model_module": "@jupyter-widgets/base",
            "_model_module_version": "1.2.0",
            "_model_name": "LayoutModel",
            "_view_count": null,
            "_view_module": "@jupyter-widgets/base",
            "_view_module_version": "1.2.0",
            "_view_name": "LayoutView",
            "align_content": null,
            "align_items": null,
            "align_self": null,
            "border": null,
            "bottom": null,
            "display": null,
            "flex": null,
            "flex_flow": null,
            "grid_area": null,
            "grid_auto_columns": null,
            "grid_auto_flow": null,
            "grid_auto_rows": null,
            "grid_column": null,
            "grid_gap": null,
            "grid_row": null,
            "grid_template_areas": null,
            "grid_template_columns": null,
            "grid_template_rows": null,
            "height": null,
            "justify_content": null,
            "justify_items": null,
            "left": null,
            "margin": null,
            "max_height": null,
            "max_width": null,
            "min_height": null,
            "min_width": null,
            "object_fit": null,
            "object_position": null,
            "order": null,
            "overflow": null,
            "overflow_x": null,
            "overflow_y": null,
            "padding": null,
            "right": null,
            "top": null,
            "visibility": null,
            "width": null
          }
        },
        "233465f344a0495f89a43edffe0108a3": {
          "model_module": "@jupyter-widgets/controls",
          "model_name": "DescriptionStyleModel",
          "model_module_version": "1.5.0",
          "state": {
            "_model_module": "@jupyter-widgets/controls",
            "_model_module_version": "1.5.0",
            "_model_name": "DescriptionStyleModel",
            "_view_count": null,
            "_view_module": "@jupyter-widgets/base",
            "_view_module_version": "1.2.0",
            "_view_name": "StyleView",
            "description_width": ""
          }
        },
        "ca89771a087d4a25bdc93a2f05384957": {
          "model_module": "@jupyter-widgets/base",
          "model_name": "LayoutModel",
          "model_module_version": "1.2.0",
          "state": {
            "_model_module": "@jupyter-widgets/base",
            "_model_module_version": "1.2.0",
            "_model_name": "LayoutModel",
            "_view_count": null,
            "_view_module": "@jupyter-widgets/base",
            "_view_module_version": "1.2.0",
            "_view_name": "LayoutView",
            "align_content": null,
            "align_items": null,
            "align_self": null,
            "border": null,
            "bottom": null,
            "display": null,
            "flex": null,
            "flex_flow": null,
            "grid_area": null,
            "grid_auto_columns": null,
            "grid_auto_flow": null,
            "grid_auto_rows": null,
            "grid_column": null,
            "grid_gap": null,
            "grid_row": null,
            "grid_template_areas": null,
            "grid_template_columns": null,
            "grid_template_rows": null,
            "height": null,
            "justify_content": null,
            "justify_items": null,
            "left": null,
            "margin": null,
            "max_height": null,
            "max_width": null,
            "min_height": null,
            "min_width": null,
            "object_fit": null,
            "object_position": null,
            "order": null,
            "overflow": null,
            "overflow_x": null,
            "overflow_y": null,
            "padding": null,
            "right": null,
            "top": null,
            "visibility": null,
            "width": null
          }
        },
        "3423e396c4b9436ab8c65398467dd11d": {
          "model_module": "@jupyter-widgets/controls",
          "model_name": "ProgressStyleModel",
          "model_module_version": "1.5.0",
          "state": {
            "_model_module": "@jupyter-widgets/controls",
            "_model_module_version": "1.5.0",
            "_model_name": "ProgressStyleModel",
            "_view_count": null,
            "_view_module": "@jupyter-widgets/base",
            "_view_module_version": "1.2.0",
            "_view_name": "StyleView",
            "bar_color": null,
            "description_width": ""
          }
        },
        "eac16606e2234105ae7aff056f9629dd": {
          "model_module": "@jupyter-widgets/base",
          "model_name": "LayoutModel",
          "model_module_version": "1.2.0",
          "state": {
            "_model_module": "@jupyter-widgets/base",
            "_model_module_version": "1.2.0",
            "_model_name": "LayoutModel",
            "_view_count": null,
            "_view_module": "@jupyter-widgets/base",
            "_view_module_version": "1.2.0",
            "_view_name": "LayoutView",
            "align_content": null,
            "align_items": null,
            "align_self": null,
            "border": null,
            "bottom": null,
            "display": null,
            "flex": null,
            "flex_flow": null,
            "grid_area": null,
            "grid_auto_columns": null,
            "grid_auto_flow": null,
            "grid_auto_rows": null,
            "grid_column": null,
            "grid_gap": null,
            "grid_row": null,
            "grid_template_areas": null,
            "grid_template_columns": null,
            "grid_template_rows": null,
            "height": null,
            "justify_content": null,
            "justify_items": null,
            "left": null,
            "margin": null,
            "max_height": null,
            "max_width": null,
            "min_height": null,
            "min_width": null,
            "object_fit": null,
            "object_position": null,
            "order": null,
            "overflow": null,
            "overflow_x": null,
            "overflow_y": null,
            "padding": null,
            "right": null,
            "top": null,
            "visibility": null,
            "width": null
          }
        },
        "2fd4da5ac7fd453aab6039978b4c6a76": {
          "model_module": "@jupyter-widgets/controls",
          "model_name": "DescriptionStyleModel",
          "model_module_version": "1.5.0",
          "state": {
            "_model_module": "@jupyter-widgets/controls",
            "_model_module_version": "1.5.0",
            "_model_name": "DescriptionStyleModel",
            "_view_count": null,
            "_view_module": "@jupyter-widgets/base",
            "_view_module_version": "1.2.0",
            "_view_name": "StyleView",
            "description_width": ""
          }
        },
        "99bcd532b6b340afbadb11c5740e9fd4": {
          "model_module": "@jupyter-widgets/controls",
          "model_name": "HBoxModel",
          "model_module_version": "1.5.0",
          "state": {
            "_dom_classes": [],
            "_model_module": "@jupyter-widgets/controls",
            "_model_module_version": "1.5.0",
            "_model_name": "HBoxModel",
            "_view_count": null,
            "_view_module": "@jupyter-widgets/controls",
            "_view_module_version": "1.5.0",
            "_view_name": "HBoxView",
            "box_style": "",
            "children": [
              "IPY_MODEL_7a8826752d214188a82dc205507feb7c",
              "IPY_MODEL_a35c1cb4a3e348a39c703e112616f7c4",
              "IPY_MODEL_31354a224a0c487e84a5f3e13da6c1fb"
            ],
            "layout": "IPY_MODEL_12ef6459a9cc4cf6afbb67edf9c4600b"
          }
        },
        "7a8826752d214188a82dc205507feb7c": {
          "model_module": "@jupyter-widgets/controls",
          "model_name": "HTMLModel",
          "model_module_version": "1.5.0",
          "state": {
            "_dom_classes": [],
            "_model_module": "@jupyter-widgets/controls",
            "_model_module_version": "1.5.0",
            "_model_name": "HTMLModel",
            "_view_count": null,
            "_view_module": "@jupyter-widgets/controls",
            "_view_module_version": "1.5.0",
            "_view_name": "HTMLView",
            "description": "",
            "description_tooltip": null,
            "layout": "IPY_MODEL_1d21b824de0d4109880c7656e5f3f5af",
            "placeholder": "​",
            "style": "IPY_MODEL_d081fc4fe729438bb52ec8d21f64b64c",
            "value": "tokenizer.json: 100%"
          }
        },
        "a35c1cb4a3e348a39c703e112616f7c4": {
          "model_module": "@jupyter-widgets/controls",
          "model_name": "FloatProgressModel",
          "model_module_version": "1.5.0",
          "state": {
            "_dom_classes": [],
            "_model_module": "@jupyter-widgets/controls",
            "_model_module_version": "1.5.0",
            "_model_name": "FloatProgressModel",
            "_view_count": null,
            "_view_module": "@jupyter-widgets/controls",
            "_view_module_version": "1.5.0",
            "_view_name": "ProgressView",
            "bar_style": "success",
            "description": "",
            "description_tooltip": null,
            "layout": "IPY_MODEL_92c084ad0059496e8bd28588ee231600",
            "max": 466062,
            "min": 0,
            "orientation": "horizontal",
            "style": "IPY_MODEL_0ca1d026cc15494fb7bf3e00b0307bc0",
            "value": 466062
          }
        },
        "31354a224a0c487e84a5f3e13da6c1fb": {
          "model_module": "@jupyter-widgets/controls",
          "model_name": "HTMLModel",
          "model_module_version": "1.5.0",
          "state": {
            "_dom_classes": [],
            "_model_module": "@jupyter-widgets/controls",
            "_model_module_version": "1.5.0",
            "_model_name": "HTMLModel",
            "_view_count": null,
            "_view_module": "@jupyter-widgets/controls",
            "_view_module_version": "1.5.0",
            "_view_name": "HTMLView",
            "description": "",
            "description_tooltip": null,
            "layout": "IPY_MODEL_acd4b6318eae4eeab6aa0283575b5851",
            "placeholder": "​",
            "style": "IPY_MODEL_005ac62ec66c438dbc77242a53ef77df",
            "value": " 466k/466k [00:00&lt;00:00, 933kB/s]"
          }
        },
        "12ef6459a9cc4cf6afbb67edf9c4600b": {
          "model_module": "@jupyter-widgets/base",
          "model_name": "LayoutModel",
          "model_module_version": "1.2.0",
          "state": {
            "_model_module": "@jupyter-widgets/base",
            "_model_module_version": "1.2.0",
            "_model_name": "LayoutModel",
            "_view_count": null,
            "_view_module": "@jupyter-widgets/base",
            "_view_module_version": "1.2.0",
            "_view_name": "LayoutView",
            "align_content": null,
            "align_items": null,
            "align_self": null,
            "border": null,
            "bottom": null,
            "display": null,
            "flex": null,
            "flex_flow": null,
            "grid_area": null,
            "grid_auto_columns": null,
            "grid_auto_flow": null,
            "grid_auto_rows": null,
            "grid_column": null,
            "grid_gap": null,
            "grid_row": null,
            "grid_template_areas": null,
            "grid_template_columns": null,
            "grid_template_rows": null,
            "height": null,
            "justify_content": null,
            "justify_items": null,
            "left": null,
            "margin": null,
            "max_height": null,
            "max_width": null,
            "min_height": null,
            "min_width": null,
            "object_fit": null,
            "object_position": null,
            "order": null,
            "overflow": null,
            "overflow_x": null,
            "overflow_y": null,
            "padding": null,
            "right": null,
            "top": null,
            "visibility": null,
            "width": null
          }
        },
        "1d21b824de0d4109880c7656e5f3f5af": {
          "model_module": "@jupyter-widgets/base",
          "model_name": "LayoutModel",
          "model_module_version": "1.2.0",
          "state": {
            "_model_module": "@jupyter-widgets/base",
            "_model_module_version": "1.2.0",
            "_model_name": "LayoutModel",
            "_view_count": null,
            "_view_module": "@jupyter-widgets/base",
            "_view_module_version": "1.2.0",
            "_view_name": "LayoutView",
            "align_content": null,
            "align_items": null,
            "align_self": null,
            "border": null,
            "bottom": null,
            "display": null,
            "flex": null,
            "flex_flow": null,
            "grid_area": null,
            "grid_auto_columns": null,
            "grid_auto_flow": null,
            "grid_auto_rows": null,
            "grid_column": null,
            "grid_gap": null,
            "grid_row": null,
            "grid_template_areas": null,
            "grid_template_columns": null,
            "grid_template_rows": null,
            "height": null,
            "justify_content": null,
            "justify_items": null,
            "left": null,
            "margin": null,
            "max_height": null,
            "max_width": null,
            "min_height": null,
            "min_width": null,
            "object_fit": null,
            "object_position": null,
            "order": null,
            "overflow": null,
            "overflow_x": null,
            "overflow_y": null,
            "padding": null,
            "right": null,
            "top": null,
            "visibility": null,
            "width": null
          }
        },
        "d081fc4fe729438bb52ec8d21f64b64c": {
          "model_module": "@jupyter-widgets/controls",
          "model_name": "DescriptionStyleModel",
          "model_module_version": "1.5.0",
          "state": {
            "_model_module": "@jupyter-widgets/controls",
            "_model_module_version": "1.5.0",
            "_model_name": "DescriptionStyleModel",
            "_view_count": null,
            "_view_module": "@jupyter-widgets/base",
            "_view_module_version": "1.2.0",
            "_view_name": "StyleView",
            "description_width": ""
          }
        },
        "92c084ad0059496e8bd28588ee231600": {
          "model_module": "@jupyter-widgets/base",
          "model_name": "LayoutModel",
          "model_module_version": "1.2.0",
          "state": {
            "_model_module": "@jupyter-widgets/base",
            "_model_module_version": "1.2.0",
            "_model_name": "LayoutModel",
            "_view_count": null,
            "_view_module": "@jupyter-widgets/base",
            "_view_module_version": "1.2.0",
            "_view_name": "LayoutView",
            "align_content": null,
            "align_items": null,
            "align_self": null,
            "border": null,
            "bottom": null,
            "display": null,
            "flex": null,
            "flex_flow": null,
            "grid_area": null,
            "grid_auto_columns": null,
            "grid_auto_flow": null,
            "grid_auto_rows": null,
            "grid_column": null,
            "grid_gap": null,
            "grid_row": null,
            "grid_template_areas": null,
            "grid_template_columns": null,
            "grid_template_rows": null,
            "height": null,
            "justify_content": null,
            "justify_items": null,
            "left": null,
            "margin": null,
            "max_height": null,
            "max_width": null,
            "min_height": null,
            "min_width": null,
            "object_fit": null,
            "object_position": null,
            "order": null,
            "overflow": null,
            "overflow_x": null,
            "overflow_y": null,
            "padding": null,
            "right": null,
            "top": null,
            "visibility": null,
            "width": null
          }
        },
        "0ca1d026cc15494fb7bf3e00b0307bc0": {
          "model_module": "@jupyter-widgets/controls",
          "model_name": "ProgressStyleModel",
          "model_module_version": "1.5.0",
          "state": {
            "_model_module": "@jupyter-widgets/controls",
            "_model_module_version": "1.5.0",
            "_model_name": "ProgressStyleModel",
            "_view_count": null,
            "_view_module": "@jupyter-widgets/base",
            "_view_module_version": "1.2.0",
            "_view_name": "StyleView",
            "bar_color": null,
            "description_width": ""
          }
        },
        "acd4b6318eae4eeab6aa0283575b5851": {
          "model_module": "@jupyter-widgets/base",
          "model_name": "LayoutModel",
          "model_module_version": "1.2.0",
          "state": {
            "_model_module": "@jupyter-widgets/base",
            "_model_module_version": "1.2.0",
            "_model_name": "LayoutModel",
            "_view_count": null,
            "_view_module": "@jupyter-widgets/base",
            "_view_module_version": "1.2.0",
            "_view_name": "LayoutView",
            "align_content": null,
            "align_items": null,
            "align_self": null,
            "border": null,
            "bottom": null,
            "display": null,
            "flex": null,
            "flex_flow": null,
            "grid_area": null,
            "grid_auto_columns": null,
            "grid_auto_flow": null,
            "grid_auto_rows": null,
            "grid_column": null,
            "grid_gap": null,
            "grid_row": null,
            "grid_template_areas": null,
            "grid_template_columns": null,
            "grid_template_rows": null,
            "height": null,
            "justify_content": null,
            "justify_items": null,
            "left": null,
            "margin": null,
            "max_height": null,
            "max_width": null,
            "min_height": null,
            "min_width": null,
            "object_fit": null,
            "object_position": null,
            "order": null,
            "overflow": null,
            "overflow_x": null,
            "overflow_y": null,
            "padding": null,
            "right": null,
            "top": null,
            "visibility": null,
            "width": null
          }
        },
        "005ac62ec66c438dbc77242a53ef77df": {
          "model_module": "@jupyter-widgets/controls",
          "model_name": "DescriptionStyleModel",
          "model_module_version": "1.5.0",
          "state": {
            "_model_module": "@jupyter-widgets/controls",
            "_model_module_version": "1.5.0",
            "_model_name": "DescriptionStyleModel",
            "_view_count": null,
            "_view_module": "@jupyter-widgets/base",
            "_view_module_version": "1.2.0",
            "_view_name": "StyleView",
            "description_width": ""
          }
        },
        "d3035ac8a0d0439483d8709f7225ae09": {
          "model_module": "@jupyter-widgets/controls",
          "model_name": "HBoxModel",
          "model_module_version": "1.5.0",
          "state": {
            "_dom_classes": [],
            "_model_module": "@jupyter-widgets/controls",
            "_model_module_version": "1.5.0",
            "_model_name": "HBoxModel",
            "_view_count": null,
            "_view_module": "@jupyter-widgets/controls",
            "_view_module_version": "1.5.0",
            "_view_name": "HBoxView",
            "box_style": "",
            "children": [
              "IPY_MODEL_53ca31aab1414d2a94b5fa665a112b82",
              "IPY_MODEL_551749e675ed45eeb8ee48bf74c2331a",
              "IPY_MODEL_05136ca8e18044dbbb7d7ff51dd267cc"
            ],
            "layout": "IPY_MODEL_00f32ef76e14406ca7fa9fc095b1c384"
          }
        },
        "53ca31aab1414d2a94b5fa665a112b82": {
          "model_module": "@jupyter-widgets/controls",
          "model_name": "HTMLModel",
          "model_module_version": "1.5.0",
          "state": {
            "_dom_classes": [],
            "_model_module": "@jupyter-widgets/controls",
            "_model_module_version": "1.5.0",
            "_model_name": "HTMLModel",
            "_view_count": null,
            "_view_module": "@jupyter-widgets/controls",
            "_view_module_version": "1.5.0",
            "_view_name": "HTMLView",
            "description": "",
            "description_tooltip": null,
            "layout": "IPY_MODEL_98110ce082b54d77a1557b87018c578d",
            "placeholder": "​",
            "style": "IPY_MODEL_041ed20d0d6e440dbf8b45b0fdcf1f7f",
            "value": "model.safetensors: 100%"
          }
        },
        "551749e675ed45eeb8ee48bf74c2331a": {
          "model_module": "@jupyter-widgets/controls",
          "model_name": "FloatProgressModel",
          "model_module_version": "1.5.0",
          "state": {
            "_dom_classes": [],
            "_model_module": "@jupyter-widgets/controls",
            "_model_module_version": "1.5.0",
            "_model_name": "FloatProgressModel",
            "_view_count": null,
            "_view_module": "@jupyter-widgets/controls",
            "_view_module_version": "1.5.0",
            "_view_name": "ProgressView",
            "bar_style": "success",
            "description": "",
            "description_tooltip": null,
            "layout": "IPY_MODEL_811ed1f4653d42bbb32cfbabe88203cb",
            "max": 440449768,
            "min": 0,
            "orientation": "horizontal",
            "style": "IPY_MODEL_cc17ede0306c44e6be0458c1028b1358",
            "value": 440449768
          }
        },
        "05136ca8e18044dbbb7d7ff51dd267cc": {
          "model_module": "@jupyter-widgets/controls",
          "model_name": "HTMLModel",
          "model_module_version": "1.5.0",
          "state": {
            "_dom_classes": [],
            "_model_module": "@jupyter-widgets/controls",
            "_model_module_version": "1.5.0",
            "_model_name": "HTMLModel",
            "_view_count": null,
            "_view_module": "@jupyter-widgets/controls",
            "_view_module_version": "1.5.0",
            "_view_name": "HTMLView",
            "description": "",
            "description_tooltip": null,
            "layout": "IPY_MODEL_cbd167c680d94a6ebab3c1580981f9e3",
            "placeholder": "​",
            "style": "IPY_MODEL_0fc1fd71c5434786a55c7f0a827908b7",
            "value": " 440M/440M [00:13&lt;00:00, 44.5MB/s]"
          }
        },
        "00f32ef76e14406ca7fa9fc095b1c384": {
          "model_module": "@jupyter-widgets/base",
          "model_name": "LayoutModel",
          "model_module_version": "1.2.0",
          "state": {
            "_model_module": "@jupyter-widgets/base",
            "_model_module_version": "1.2.0",
            "_model_name": "LayoutModel",
            "_view_count": null,
            "_view_module": "@jupyter-widgets/base",
            "_view_module_version": "1.2.0",
            "_view_name": "LayoutView",
            "align_content": null,
            "align_items": null,
            "align_self": null,
            "border": null,
            "bottom": null,
            "display": null,
            "flex": null,
            "flex_flow": null,
            "grid_area": null,
            "grid_auto_columns": null,
            "grid_auto_flow": null,
            "grid_auto_rows": null,
            "grid_column": null,
            "grid_gap": null,
            "grid_row": null,
            "grid_template_areas": null,
            "grid_template_columns": null,
            "grid_template_rows": null,
            "height": null,
            "justify_content": null,
            "justify_items": null,
            "left": null,
            "margin": null,
            "max_height": null,
            "max_width": null,
            "min_height": null,
            "min_width": null,
            "object_fit": null,
            "object_position": null,
            "order": null,
            "overflow": null,
            "overflow_x": null,
            "overflow_y": null,
            "padding": null,
            "right": null,
            "top": null,
            "visibility": null,
            "width": null
          }
        },
        "98110ce082b54d77a1557b87018c578d": {
          "model_module": "@jupyter-widgets/base",
          "model_name": "LayoutModel",
          "model_module_version": "1.2.0",
          "state": {
            "_model_module": "@jupyter-widgets/base",
            "_model_module_version": "1.2.0",
            "_model_name": "LayoutModel",
            "_view_count": null,
            "_view_module": "@jupyter-widgets/base",
            "_view_module_version": "1.2.0",
            "_view_name": "LayoutView",
            "align_content": null,
            "align_items": null,
            "align_self": null,
            "border": null,
            "bottom": null,
            "display": null,
            "flex": null,
            "flex_flow": null,
            "grid_area": null,
            "grid_auto_columns": null,
            "grid_auto_flow": null,
            "grid_auto_rows": null,
            "grid_column": null,
            "grid_gap": null,
            "grid_row": null,
            "grid_template_areas": null,
            "grid_template_columns": null,
            "grid_template_rows": null,
            "height": null,
            "justify_content": null,
            "justify_items": null,
            "left": null,
            "margin": null,
            "max_height": null,
            "max_width": null,
            "min_height": null,
            "min_width": null,
            "object_fit": null,
            "object_position": null,
            "order": null,
            "overflow": null,
            "overflow_x": null,
            "overflow_y": null,
            "padding": null,
            "right": null,
            "top": null,
            "visibility": null,
            "width": null
          }
        },
        "041ed20d0d6e440dbf8b45b0fdcf1f7f": {
          "model_module": "@jupyter-widgets/controls",
          "model_name": "DescriptionStyleModel",
          "model_module_version": "1.5.0",
          "state": {
            "_model_module": "@jupyter-widgets/controls",
            "_model_module_version": "1.5.0",
            "_model_name": "DescriptionStyleModel",
            "_view_count": null,
            "_view_module": "@jupyter-widgets/base",
            "_view_module_version": "1.2.0",
            "_view_name": "StyleView",
            "description_width": ""
          }
        },
        "811ed1f4653d42bbb32cfbabe88203cb": {
          "model_module": "@jupyter-widgets/base",
          "model_name": "LayoutModel",
          "model_module_version": "1.2.0",
          "state": {
            "_model_module": "@jupyter-widgets/base",
            "_model_module_version": "1.2.0",
            "_model_name": "LayoutModel",
            "_view_count": null,
            "_view_module": "@jupyter-widgets/base",
            "_view_module_version": "1.2.0",
            "_view_name": "LayoutView",
            "align_content": null,
            "align_items": null,
            "align_self": null,
            "border": null,
            "bottom": null,
            "display": null,
            "flex": null,
            "flex_flow": null,
            "grid_area": null,
            "grid_auto_columns": null,
            "grid_auto_flow": null,
            "grid_auto_rows": null,
            "grid_column": null,
            "grid_gap": null,
            "grid_row": null,
            "grid_template_areas": null,
            "grid_template_columns": null,
            "grid_template_rows": null,
            "height": null,
            "justify_content": null,
            "justify_items": null,
            "left": null,
            "margin": null,
            "max_height": null,
            "max_width": null,
            "min_height": null,
            "min_width": null,
            "object_fit": null,
            "object_position": null,
            "order": null,
            "overflow": null,
            "overflow_x": null,
            "overflow_y": null,
            "padding": null,
            "right": null,
            "top": null,
            "visibility": null,
            "width": null
          }
        },
        "cc17ede0306c44e6be0458c1028b1358": {
          "model_module": "@jupyter-widgets/controls",
          "model_name": "ProgressStyleModel",
          "model_module_version": "1.5.0",
          "state": {
            "_model_module": "@jupyter-widgets/controls",
            "_model_module_version": "1.5.0",
            "_model_name": "ProgressStyleModel",
            "_view_count": null,
            "_view_module": "@jupyter-widgets/base",
            "_view_module_version": "1.2.0",
            "_view_name": "StyleView",
            "bar_color": null,
            "description_width": ""
          }
        },
        "cbd167c680d94a6ebab3c1580981f9e3": {
          "model_module": "@jupyter-widgets/base",
          "model_name": "LayoutModel",
          "model_module_version": "1.2.0",
          "state": {
            "_model_module": "@jupyter-widgets/base",
            "_model_module_version": "1.2.0",
            "_model_name": "LayoutModel",
            "_view_count": null,
            "_view_module": "@jupyter-widgets/base",
            "_view_module_version": "1.2.0",
            "_view_name": "LayoutView",
            "align_content": null,
            "align_items": null,
            "align_self": null,
            "border": null,
            "bottom": null,
            "display": null,
            "flex": null,
            "flex_flow": null,
            "grid_area": null,
            "grid_auto_columns": null,
            "grid_auto_flow": null,
            "grid_auto_rows": null,
            "grid_column": null,
            "grid_gap": null,
            "grid_row": null,
            "grid_template_areas": null,
            "grid_template_columns": null,
            "grid_template_rows": null,
            "height": null,
            "justify_content": null,
            "justify_items": null,
            "left": null,
            "margin": null,
            "max_height": null,
            "max_width": null,
            "min_height": null,
            "min_width": null,
            "object_fit": null,
            "object_position": null,
            "order": null,
            "overflow": null,
            "overflow_x": null,
            "overflow_y": null,
            "padding": null,
            "right": null,
            "top": null,
            "visibility": null,
            "width": null
          }
        },
        "0fc1fd71c5434786a55c7f0a827908b7": {
          "model_module": "@jupyter-widgets/controls",
          "model_name": "DescriptionStyleModel",
          "model_module_version": "1.5.0",
          "state": {
            "_model_module": "@jupyter-widgets/controls",
            "_model_module_version": "1.5.0",
            "_model_name": "DescriptionStyleModel",
            "_view_count": null,
            "_view_module": "@jupyter-widgets/base",
            "_view_module_version": "1.2.0",
            "_view_name": "StyleView",
            "description_width": ""
          }
        }
      }
    }
  },
  "nbformat": 4,
  "nbformat_minor": 0
}